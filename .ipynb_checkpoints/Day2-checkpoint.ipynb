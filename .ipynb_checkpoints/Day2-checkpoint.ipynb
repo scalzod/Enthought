{
 "metadata": {
  "name": "",
  "signature": "sha256:7b2f53497d3bb745762b23c3f850f4b8317f8962c2df862ab75585384ceee796"
 },
 "nbformat": 3,
 "nbformat_minor": 0,
 "worksheets": []
}