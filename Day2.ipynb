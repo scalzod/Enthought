{
 "metadata": {
  "name": "",
  "signature": "sha256:40794b1e0d2823c7307656af43e793394fdd412db2a31a34da21e8c27501f6ed"
 },
 "nbformat": 3,
 "nbformat_minor": 0,
 "worksheets": [
  {
   "cells": [
    {
     "cell_type": "code",
     "collapsed": false,
     "input": [
      "import sys"
     ],
     "language": "python",
     "metadata": {},
     "outputs": [],
     "prompt_number": 1
    },
    {
     "cell_type": "code",
     "collapsed": false,
     "input": [
      "sys.platform"
     ],
     "language": "python",
     "metadata": {},
     "outputs": [
      {
       "metadata": {},
       "output_type": "pyout",
       "prompt_number": 2,
       "text": [
        "'darwin'"
       ]
      }
     ],
     "prompt_number": 2
    },
    {
     "cell_type": "code",
     "collapsed": false,
     "input": [
      "from datetime import date"
     ],
     "language": "python",
     "metadata": {},
     "outputs": [],
     "prompt_number": 4
    },
    {
     "cell_type": "code",
     "collapsed": false,
     "input": [],
     "language": "python",
     "metadata": {},
     "outputs": []
    },
    {
     "cell_type": "code",
     "collapsed": false,
     "input": [
      "date?"
     ],
     "language": "python",
     "metadata": {},
     "outputs": [],
     "prompt_number": 5
    },
    {
     "cell_type": "code",
     "collapsed": false,
     "input": [
      "datetime.now()\n"
     ],
     "language": "python",
     "metadata": {},
     "outputs": [
      {
       "ename": "AttributeError",
       "evalue": "'module' object has no attribute 'now'",
       "output_type": "pyerr",
       "traceback": [
        "\u001b[0;31m---------------------------------------------------------------------------\u001b[0m\n\u001b[0;31mAttributeError\u001b[0m                            Traceback (most recent call last)",
        "\u001b[0;32m<ipython-input-6-76bce3b8468b>\u001b[0m in \u001b[0;36m<module>\u001b[0;34m()\u001b[0m\n\u001b[0;32m----> 1\u001b[0;31m \u001b[0mdatetime\u001b[0m\u001b[0;34m.\u001b[0m\u001b[0mnow\u001b[0m\u001b[0;34m(\u001b[0m\u001b[0;34m)\u001b[0m\u001b[0;34m\u001b[0m\u001b[0m\n\u001b[0m",
        "\u001b[0;31mAttributeError\u001b[0m: 'module' object has no attribute 'now'"
       ]
      }
     ],
     "prompt_number": 6
    },
    {
     "cell_type": "code",
     "collapsed": false,
     "input": [
      "from datetime import datetime"
     ],
     "language": "python",
     "metadata": {},
     "outputs": [],
     "prompt_number": 7
    },
    {
     "cell_type": "code",
     "collapsed": false,
     "input": [
      "datetime.now()"
     ],
     "language": "python",
     "metadata": {},
     "outputs": [
      {
       "metadata": {},
       "output_type": "pyout",
       "prompt_number": 8,
       "text": [
        "datetime.datetime(2015, 6, 23, 8, 46, 23, 580098)"
       ]
      }
     ],
     "prompt_number": 8
    },
    {
     "cell_type": "code",
     "collapsed": false,
     "input": [
      "numpy.__version__"
     ],
     "language": "python",
     "metadata": {},
     "outputs": [
      {
       "metadata": {},
       "output_type": "pyout",
       "prompt_number": 9,
       "text": [
        "'1.9.2'"
       ]
      }
     ],
     "prompt_number": 9
    },
    {
     "cell_type": "code",
     "collapsed": false,
     "input": [
      "scipy.__version__"
     ],
     "language": "python",
     "metadata": {},
     "outputs": [
      {
       "ename": "NameError",
       "evalue": "name 'scipy' is not defined",
       "output_type": "pyerr",
       "traceback": [
        "\u001b[0;31m---------------------------------------------------------------------------\u001b[0m\n\u001b[0;31mNameError\u001b[0m                                 Traceback (most recent call last)",
        "\u001b[0;32m<ipython-input-10-b325d035e249>\u001b[0m in \u001b[0;36m<module>\u001b[0;34m()\u001b[0m\n\u001b[0;32m----> 1\u001b[0;31m \u001b[0mscipy\u001b[0m\u001b[0;34m.\u001b[0m\u001b[0m__version__\u001b[0m\u001b[0;34m\u001b[0m\u001b[0m\n\u001b[0m",
        "\u001b[0;31mNameError\u001b[0m: name 'scipy' is not defined"
       ]
      }
     ],
     "prompt_number": 10
    },
    {
     "cell_type": "code",
     "collapsed": false,
     "input": [
      "import scipy"
     ],
     "language": "python",
     "metadata": {},
     "outputs": [],
     "prompt_number": 11
    },
    {
     "cell_type": "code",
     "collapsed": false,
     "input": [
      "scipy.__version__"
     ],
     "language": "python",
     "metadata": {},
     "outputs": [
      {
       "metadata": {},
       "output_type": "pyout",
       "prompt_number": 12,
       "text": [
        "'0.15.1'"
       ]
      }
     ],
     "prompt_number": 12
    },
    {
     "cell_type": "code",
     "collapsed": false,
     "input": [
      "import pandas"
     ],
     "language": "python",
     "metadata": {},
     "outputs": [],
     "prompt_number": 13
    },
    {
     "cell_type": "code",
     "collapsed": false,
     "input": [
      "pandas.__version__"
     ],
     "language": "python",
     "metadata": {},
     "outputs": [
      {
       "metadata": {},
       "output_type": "pyout",
       "prompt_number": 14,
       "text": [
        "'0.16.1'"
       ]
      }
     ],
     "prompt_number": 14
    },
    {
     "cell_type": "code",
     "collapsed": false,
     "input": [
      "matplotlib.__version__"
     ],
     "language": "python",
     "metadata": {},
     "outputs": [
      {
       "metadata": {},
       "output_type": "pyout",
       "prompt_number": 15,
       "text": [
        "'1.4.3'"
       ]
      }
     ],
     "prompt_number": 15
    },
    {
     "cell_type": "code",
     "collapsed": false,
     "input": [
      "a = array([0,1,2,3])"
     ],
     "language": "python",
     "metadata": {},
     "outputs": [],
     "prompt_number": 16
    },
    {
     "cell_type": "code",
     "collapsed": false,
     "input": [
      "a"
     ],
     "language": "python",
     "metadata": {},
     "outputs": [
      {
       "metadata": {},
       "output_type": "pyout",
       "prompt_number": 17,
       "text": [
        "array([0, 1, 2, 3])"
       ]
      }
     ],
     "prompt_number": 17
    },
    {
     "cell_type": "code",
     "collapsed": false,
     "input": [
      "type(a)"
     ],
     "language": "python",
     "metadata": {},
     "outputs": [
      {
       "metadata": {},
       "output_type": "pyout",
       "prompt_number": 18,
       "text": [
        "numpy.ndarray"
       ]
      }
     ],
     "prompt_number": 18
    },
    {
     "cell_type": "code",
     "collapsed": false,
     "input": [
      "a.dtype"
     ],
     "language": "python",
     "metadata": {},
     "outputs": [
      {
       "metadata": {},
       "output_type": "pyout",
       "prompt_number": 19,
       "text": [
        "dtype('int64')"
       ]
      }
     ],
     "prompt_number": 19
    },
    {
     "cell_type": "code",
     "collapsed": false,
     "input": [
      "a.itemsize"
     ],
     "language": "python",
     "metadata": {},
     "outputs": [
      {
       "metadata": {},
       "output_type": "pyout",
       "prompt_number": 20,
       "text": [
        "8"
       ]
      }
     ],
     "prompt_number": 20
    },
    {
     "cell_type": "code",
     "collapsed": false,
     "input": [
      "a.nbytes"
     ],
     "language": "python",
     "metadata": {},
     "outputs": [
      {
       "metadata": {},
       "output_type": "pyout",
       "prompt_number": 21,
       "text": [
        "32"
       ]
      }
     ],
     "prompt_number": 21
    },
    {
     "cell_type": "code",
     "collapsed": false,
     "input": [
      "a = array([1,2,3,4])"
     ],
     "language": "python",
     "metadata": {},
     "outputs": [],
     "prompt_number": 22
    },
    {
     "cell_type": "code",
     "collapsed": false,
     "input": [
      "b = array([2,3,4,5])"
     ],
     "language": "python",
     "metadata": {},
     "outputs": [],
     "prompt_number": 23
    },
    {
     "cell_type": "code",
     "collapsed": false,
     "input": [
      "c = array([2,3,4])"
     ],
     "language": "python",
     "metadata": {},
     "outputs": [],
     "prompt_number": 24
    },
    {
     "cell_type": "code",
     "collapsed": false,
     "input": [
      "a+c"
     ],
     "language": "python",
     "metadata": {},
     "outputs": [
      {
       "ename": "ValueError",
       "evalue": "operands could not be broadcast together with shapes (4,) (3,) ",
       "output_type": "pyerr",
       "traceback": [
        "\u001b[0;31m---------------------------------------------------------------------------\u001b[0m\n\u001b[0;31mValueError\u001b[0m                                Traceback (most recent call last)",
        "\u001b[0;32m<ipython-input-25-637545a26abd>\u001b[0m in \u001b[0;36m<module>\u001b[0;34m()\u001b[0m\n\u001b[0;32m----> 1\u001b[0;31m \u001b[0ma\u001b[0m\u001b[0;34m+\u001b[0m\u001b[0mc\u001b[0m\u001b[0;34m\u001b[0m\u001b[0m\n\u001b[0m",
        "\u001b[0;31mValueError\u001b[0m: operands could not be broadcast together with shapes (4,) (3,) "
       ]
      }
     ],
     "prompt_number": 25
    },
    {
     "cell_type": "code",
     "collapsed": false,
     "input": [
      "a**c"
     ],
     "language": "python",
     "metadata": {},
     "outputs": [
      {
       "ename": "ValueError",
       "evalue": "operands could not be broadcast together with shapes (4,) (3,) ",
       "output_type": "pyerr",
       "traceback": [
        "\u001b[0;31m---------------------------------------------------------------------------\u001b[0m\n\u001b[0;31mValueError\u001b[0m                                Traceback (most recent call last)",
        "\u001b[0;32m<ipython-input-26-a1390219e6f2>\u001b[0m in \u001b[0;36m<module>\u001b[0;34m()\u001b[0m\n\u001b[0;32m----> 1\u001b[0;31m \u001b[0ma\u001b[0m\u001b[0;34m**\u001b[0m\u001b[0mc\u001b[0m\u001b[0;34m\u001b[0m\u001b[0m\n\u001b[0m",
        "\u001b[0;31mValueError\u001b[0m: operands could not be broadcast together with shapes (4,) (3,) "
       ]
      }
     ],
     "prompt_number": 26
    },
    {
     "cell_type": "code",
     "collapsed": false,
     "input": [
      "x = arange(4.)"
     ],
     "language": "python",
     "metadata": {},
     "outputs": [],
     "prompt_number": 27
    },
    {
     "cell_type": "code",
     "collapsed": false,
     "input": [
      "a"
     ],
     "language": "python",
     "metadata": {},
     "outputs": [
      {
       "metadata": {},
       "output_type": "pyout",
       "prompt_number": 28,
       "text": [
        "array([1, 2, 3, 4])"
       ]
      }
     ],
     "prompt_number": 28
    },
    {
     "cell_type": "code",
     "collapsed": false,
     "input": [
      "a[3]"
     ],
     "language": "python",
     "metadata": {},
     "outputs": [
      {
       "metadata": {},
       "output_type": "pyout",
       "prompt_number": 29,
       "text": [
        "4"
       ]
      }
     ],
     "prompt_number": 29
    },
    {
     "cell_type": "code",
     "collapsed": false,
     "input": [
      "a = array([[ 0, 1, 2, 3],[10,11,12,13]])"
     ],
     "language": "python",
     "metadata": {},
     "outputs": [],
     "prompt_number": 30
    },
    {
     "cell_type": "code",
     "collapsed": false,
     "input": [
      "a[:3]"
     ],
     "language": "python",
     "metadata": {},
     "outputs": [
      {
       "metadata": {},
       "output_type": "pyout",
       "prompt_number": 31,
       "text": [
        "array([[ 0,  1,  2,  3],\n",
        "       [10, 11, 12, 13]])"
       ]
      }
     ],
     "prompt_number": 31
    },
    {
     "cell_type": "code",
     "collapsed": false,
     "input": [
      "a[:,3]"
     ],
     "language": "python",
     "metadata": {},
     "outputs": [
      {
       "metadata": {},
       "output_type": "pyout",
       "prompt_number": 32,
       "text": [
        "array([ 3, 13])"
       ]
      }
     ],
     "prompt_number": 32
    },
    {
     "cell_type": "code",
     "collapsed": false,
     "input": [
      "a = arange(25).reshape(5, 5)"
     ],
     "language": "python",
     "metadata": {},
     "outputs": [],
     "prompt_number": 33
    },
    {
     "cell_type": "code",
     "collapsed": false,
     "input": [
      "a[:5]"
     ],
     "language": "python",
     "metadata": {},
     "outputs": [
      {
       "metadata": {},
       "output_type": "pyout",
       "prompt_number": 34,
       "text": [
        "array([[ 0,  1,  2,  3,  4],\n",
        "       [ 5,  6,  7,  8,  9],\n",
        "       [10, 11, 12, 13, 14],\n",
        "       [15, 16, 17, 18, 19],\n",
        "       [20, 21, 22, 23, 24]])"
       ]
      }
     ],
     "prompt_number": 34
    },
    {
     "cell_type": "code",
     "collapsed": false,
     "input": [
      "a[:5,]"
     ],
     "language": "python",
     "metadata": {},
     "outputs": [
      {
       "metadata": {},
       "output_type": "pyout",
       "prompt_number": 35,
       "text": [
        "array([[ 0,  1,  2,  3,  4],\n",
        "       [ 5,  6,  7,  8,  9],\n",
        "       [10, 11, 12, 13, 14],\n",
        "       [15, 16, 17, 18, 19],\n",
        "       [20, 21, 22, 23, 24]])"
       ]
      }
     ],
     "prompt_number": 35
    },
    {
     "cell_type": "code",
     "collapsed": false,
     "input": [
      "a[5:]"
     ],
     "language": "python",
     "metadata": {},
     "outputs": [
      {
       "metadata": {},
       "output_type": "pyout",
       "prompt_number": 36,
       "text": [
        "array([], shape=(0, 5), dtype=int64)"
       ]
      }
     ],
     "prompt_number": 36
    },
    {
     "cell_type": "code",
     "collapsed": false,
     "input": [
      "a[5:,]"
     ],
     "language": "python",
     "metadata": {},
     "outputs": [
      {
       "metadata": {},
       "output_type": "pyout",
       "prompt_number": 37,
       "text": [
        "array([], shape=(0, 5), dtype=int64)"
       ]
      }
     ],
     "prompt_number": 37
    },
    {
     "cell_type": "code",
     "collapsed": false,
     "input": [
      "a[4:,]"
     ],
     "language": "python",
     "metadata": {},
     "outputs": [
      {
       "metadata": {},
       "output_type": "pyout",
       "prompt_number": 38,
       "text": [
        "array([[20, 21, 22, 23, 24]])"
       ]
      }
     ],
     "prompt_number": 38
    },
    {
     "cell_type": "code",
     "collapsed": false,
     "input": [
      "a[1:,2:]"
     ],
     "language": "python",
     "metadata": {},
     "outputs": [
      {
       "metadata": {},
       "output_type": "pyout",
       "prompt_number": 39,
       "text": [
        "array([[ 7,  8,  9],\n",
        "       [12, 13, 14],\n",
        "       [17, 18, 19],\n",
        "       [22, 23, 24]])"
       ]
      }
     ],
     "prompt_number": 39
    },
    {
     "cell_type": "code",
     "collapsed": false,
     "input": [
      "a[:,1]"
     ],
     "language": "python",
     "metadata": {},
     "outputs": [
      {
       "metadata": {},
       "output_type": "pyout",
       "prompt_number": 40,
       "text": [
        "array([ 1,  6, 11, 16, 21])"
       ]
      }
     ],
     "prompt_number": 40
    },
    {
     "cell_type": "code",
     "collapsed": false,
     "input": [
      "a[:,1::2]"
     ],
     "language": "python",
     "metadata": {},
     "outputs": [
      {
       "metadata": {},
       "output_type": "pyout",
       "prompt_number": 41,
       "text": [
        "array([[ 1,  3],\n",
        "       [ 6,  8],\n",
        "       [11, 13],\n",
        "       [16, 18],\n",
        "       [21, 23]])"
       ]
      }
     ],
     "prompt_number": 41
    },
    {
     "cell_type": "code",
     "collapsed": false,
     "input": [
      "a[1::2,:3:2]"
     ],
     "language": "python",
     "metadata": {},
     "outputs": [
      {
       "metadata": {},
       "output_type": "pyout",
       "prompt_number": 42,
       "text": [
        "array([[ 5,  7],\n",
        "       [15, 17]])"
       ]
      }
     ],
     "prompt_number": 42
    },
    {
     "cell_type": "code",
     "collapsed": false,
     "input": [
      "a[-2::-2,:-3:-2]"
     ],
     "language": "python",
     "metadata": {},
     "outputs": [
      {
       "metadata": {},
       "output_type": "pyout",
       "prompt_number": 43,
       "text": [
        "array([[19],\n",
        "       [ 9]])"
       ]
      }
     ],
     "prompt_number": 43
    },
    {
     "cell_type": "code",
     "collapsed": false,
     "input": [
      "a "
     ],
     "language": "python",
     "metadata": {},
     "outputs": [
      {
       "metadata": {},
       "output_type": "pyout",
       "prompt_number": 44,
       "text": [
        "array([[ 0,  1,  2,  3,  4],\n",
        "       [ 5,  6,  7,  8,  9],\n",
        "       [10, 11, 12, 13, 14],\n",
        "       [15, 16, 17, 18, 19],\n",
        "       [20, 21, 22, 23, 24]])"
       ]
      }
     ],
     "prompt_number": 44
    },
    {
     "cell_type": "code",
     "collapsed": false,
     "input": [
      "a = array([1,2,3,4])"
     ],
     "language": "python",
     "metadata": {},
     "outputs": [],
     "prompt_number": 45
    },
    {
     "cell_type": "code",
     "collapsed": false,
     "input": [
      "idx = array([1,3])"
     ],
     "language": "python",
     "metadata": {},
     "outputs": [],
     "prompt_number": 46
    },
    {
     "cell_type": "code",
     "collapsed": false,
     "input": [
      "a[idx]"
     ],
     "language": "python",
     "metadata": {},
     "outputs": [
      {
       "metadata": {},
       "output_type": "pyout",
       "prompt_number": 47,
       "text": [
        "array([2, 4])"
       ]
      }
     ],
     "prompt_number": 47
    },
    {
     "cell_type": "code",
     "collapsed": false,
     "input": [
      "a = arange(25).reshape(5, 5)"
     ],
     "language": "python",
     "metadata": {},
     "outputs": [],
     "prompt_number": 48
    },
    {
     "cell_type": "code",
     "collapsed": false,
     "input": [
      "b = a[(0,1,2,3),(1,2,3,4)]"
     ],
     "language": "python",
     "metadata": {},
     "outputs": [],
     "prompt_number": 49
    },
    {
     "cell_type": "code",
     "collapsed": false,
     "input": [
      "b"
     ],
     "language": "python",
     "metadata": {},
     "outputs": [
      {
       "metadata": {},
       "output_type": "pyout",
       "prompt_number": 50,
       "text": [
        "array([ 1,  7, 13, 19])"
       ]
      }
     ],
     "prompt_number": 50
    },
    {
     "cell_type": "code",
     "collapsed": false,
     "input": [
      "mask = a % 3 ==0"
     ],
     "language": "python",
     "metadata": {},
     "outputs": [],
     "prompt_number": 51
    },
    {
     "cell_type": "code",
     "collapsed": false,
     "input": [
      "y = a[mask]"
     ],
     "language": "python",
     "metadata": {},
     "outputs": [
      {
       "ename": "IndexError",
       "evalue": "index 5 is out of bounds for axis 0 with size 5",
       "output_type": "pyerr",
       "traceback": [
        "\u001b[0;31m---------------------------------------------------------------------------\u001b[0m\n\u001b[0;31mIndexError\u001b[0m                                Traceback (most recent call last)",
        "\u001b[0;32m<ipython-input-52-d58852027e0d>\u001b[0m in \u001b[0;36m<module>\u001b[0;34m()\u001b[0m\n\u001b[0;32m----> 1\u001b[0;31m \u001b[0my\u001b[0m \u001b[0;34m=\u001b[0m \u001b[0ma\u001b[0m\u001b[0;34m[\u001b[0m\u001b[0mmask\u001b[0m\u001b[0;34m]\u001b[0m\u001b[0;34m\u001b[0m\u001b[0m\n\u001b[0m",
        "\u001b[0;31mIndexError\u001b[0m: index 5 is out of bounds for axis 0 with size 5"
       ]
      }
     ],
     "prompt_number": 52
    },
    {
     "cell_type": "code",
     "collapsed": false,
     "input": [
      "mask"
     ],
     "language": "python",
     "metadata": {},
     "outputs": [
      {
       "metadata": {},
       "output_type": "pyout",
       "prompt_number": 53,
       "text": [
        "array([[0, 0, 0, 1, 1],\n",
        "       [1, 2, 2, 2, 3],\n",
        "       [3, 3, 4, 4, 4],\n",
        "       [5, 5, 5, 6, 6],\n",
        "       [6, 7, 7, 7, 8]])"
       ]
      }
     ],
     "prompt_number": 53
    },
    {
     "cell_type": "code",
     "collapsed": false,
     "input": [
      "mask = a % 3 ==0"
     ],
     "language": "python",
     "metadata": {},
     "outputs": [],
     "prompt_number": 54
    },
    {
     "cell_type": "code",
     "collapsed": false,
     "input": [
      "mask"
     ],
     "language": "python",
     "metadata": {},
     "outputs": [
      {
       "metadata": {},
       "output_type": "pyout",
       "prompt_number": 55,
       "text": [
        "array([[ True, False, False,  True, False],\n",
        "       [False,  True, False, False,  True],\n",
        "       [False, False,  True, False, False],\n",
        "       [ True, False, False,  True, False],\n",
        "       [False,  True, False, False,  True]], dtype=bool)"
       ]
      }
     ],
     "prompt_number": 55
    },
    {
     "cell_type": "code",
     "collapsed": false,
     "input": [
      "y = a[mask]"
     ],
     "language": "python",
     "metadata": {},
     "outputs": [],
     "prompt_number": 56
    },
    {
     "cell_type": "code",
     "collapsed": false,
     "input": [
      "y"
     ],
     "language": "python",
     "metadata": {},
     "outputs": [
      {
       "metadata": {},
       "output_type": "pyout",
       "prompt_number": 57,
       "text": [
        "array([ 0,  3,  6,  9, 12, 15, 18, 21, 24])"
       ]
      }
     ],
     "prompt_number": 57
    },
    {
     "cell_type": "code",
     "collapsed": false,
     "input": [
      "from numpy import arange, loadtxt, zeros"
     ],
     "language": "python",
     "metadata": {},
     "outputs": [],
     "prompt_number": 58
    },
    {
     "cell_type": "code",
     "collapsed": false,
     "input": [
      "from matplotlib.pyplot import plot, title, show, xlim"
     ],
     "language": "python",
     "metadata": {},
     "outputs": [],
     "prompt_number": 59
    },
    {
     "cell_type": "code",
     "collapsed": false,
     "input": [
      "prices = loadtxt(\"aapl_2008_close_values.csv\", usecols=[1], delimiter=\",\")"
     ],
     "language": "python",
     "metadata": {},
     "outputs": [
      {
       "ename": "IOError",
       "evalue": "[Errno 2] No such file or directory: 'aapl_2008_close_values.csv'",
       "output_type": "pyerr",
       "traceback": [
        "\u001b[0;31m---------------------------------------------------------------------------\u001b[0m\n\u001b[0;31mIOError\u001b[0m                                   Traceback (most recent call last)",
        "\u001b[0;32m<ipython-input-60-6fbd0451db5f>\u001b[0m in \u001b[0;36m<module>\u001b[0;34m()\u001b[0m\n\u001b[0;32m----> 1\u001b[0;31m \u001b[0mprices\u001b[0m \u001b[0;34m=\u001b[0m \u001b[0mloadtxt\u001b[0m\u001b[0;34m(\u001b[0m\u001b[0;34m\"aapl_2008_close_values.csv\"\u001b[0m\u001b[0;34m,\u001b[0m \u001b[0musecols\u001b[0m\u001b[0;34m=\u001b[0m\u001b[0;34m[\u001b[0m\u001b[0;36m1\u001b[0m\u001b[0;34m]\u001b[0m\u001b[0;34m,\u001b[0m \u001b[0mdelimiter\u001b[0m\u001b[0;34m=\u001b[0m\u001b[0;34m\",\"\u001b[0m\u001b[0;34m)\u001b[0m\u001b[0;34m\u001b[0m\u001b[0m\n\u001b[0m",
        "\u001b[0;32m/Users/zod/Library/Enthought/Canopy_64bit/User/lib/python2.7/site-packages/numpy/lib/npyio.pyc\u001b[0m in \u001b[0;36mloadtxt\u001b[0;34m(fname, dtype, comments, delimiter, converters, skiprows, usecols, unpack, ndmin)\u001b[0m\n\u001b[1;32m    736\u001b[0m                 \u001b[0mfh\u001b[0m \u001b[0;34m=\u001b[0m \u001b[0miter\u001b[0m\u001b[0;34m(\u001b[0m\u001b[0mbz2\u001b[0m\u001b[0;34m.\u001b[0m\u001b[0mBZ2File\u001b[0m\u001b[0;34m(\u001b[0m\u001b[0mfname\u001b[0m\u001b[0;34m)\u001b[0m\u001b[0;34m)\u001b[0m\u001b[0;34m\u001b[0m\u001b[0m\n\u001b[1;32m    737\u001b[0m             \u001b[0;32melif\u001b[0m \u001b[0msys\u001b[0m\u001b[0;34m.\u001b[0m\u001b[0mversion_info\u001b[0m\u001b[0;34m[\u001b[0m\u001b[0;36m0\u001b[0m\u001b[0;34m]\u001b[0m \u001b[0;34m==\u001b[0m \u001b[0;36m2\u001b[0m\u001b[0;34m:\u001b[0m\u001b[0;34m\u001b[0m\u001b[0m\n\u001b[0;32m--> 738\u001b[0;31m                 \u001b[0mfh\u001b[0m \u001b[0;34m=\u001b[0m \u001b[0miter\u001b[0m\u001b[0;34m(\u001b[0m\u001b[0mopen\u001b[0m\u001b[0;34m(\u001b[0m\u001b[0mfname\u001b[0m\u001b[0;34m,\u001b[0m \u001b[0;34m'U'\u001b[0m\u001b[0;34m)\u001b[0m\u001b[0;34m)\u001b[0m\u001b[0;34m\u001b[0m\u001b[0m\n\u001b[0m\u001b[1;32m    739\u001b[0m             \u001b[0;32melse\u001b[0m\u001b[0;34m:\u001b[0m\u001b[0;34m\u001b[0m\u001b[0m\n\u001b[1;32m    740\u001b[0m                 \u001b[0mfh\u001b[0m \u001b[0;34m=\u001b[0m \u001b[0miter\u001b[0m\u001b[0;34m(\u001b[0m\u001b[0mopen\u001b[0m\u001b[0;34m(\u001b[0m\u001b[0mfname\u001b[0m\u001b[0;34m)\u001b[0m\u001b[0;34m)\u001b[0m\u001b[0;34m\u001b[0m\u001b[0m\n",
        "\u001b[0;31mIOError\u001b[0m: [Errno 2] No such file or directory: 'aapl_2008_close_values.csv'"
       ]
      }
     ],
     "prompt_number": 60
    },
    {
     "cell_type": "code",
     "collapsed": false,
     "input": [
      "prices = loadtxt(\"aapl_2008_close_values.csv\", usecols=[1], delimiter=\",\")"
     ],
     "language": "python",
     "metadata": {},
     "outputs": [
      {
       "ename": "IOError",
       "evalue": "[Errno 2] No such file or directory: 'aapl_2008_close_values.csv'",
       "output_type": "pyerr",
       "traceback": [
        "\u001b[0;31m---------------------------------------------------------------------------\u001b[0m\n\u001b[0;31mIOError\u001b[0m                                   Traceback (most recent call last)",
        "\u001b[0;32m<ipython-input-61-6fbd0451db5f>\u001b[0m in \u001b[0;36m<module>\u001b[0;34m()\u001b[0m\n\u001b[0;32m----> 1\u001b[0;31m \u001b[0mprices\u001b[0m \u001b[0;34m=\u001b[0m \u001b[0mloadtxt\u001b[0m\u001b[0;34m(\u001b[0m\u001b[0;34m\"aapl_2008_close_values.csv\"\u001b[0m\u001b[0;34m,\u001b[0m \u001b[0musecols\u001b[0m\u001b[0;34m=\u001b[0m\u001b[0;34m[\u001b[0m\u001b[0;36m1\u001b[0m\u001b[0;34m]\u001b[0m\u001b[0;34m,\u001b[0m \u001b[0mdelimiter\u001b[0m\u001b[0;34m=\u001b[0m\u001b[0;34m\",\"\u001b[0m\u001b[0;34m)\u001b[0m\u001b[0;34m\u001b[0m\u001b[0m\n\u001b[0m",
        "\u001b[0;32m/Users/zod/Library/Enthought/Canopy_64bit/User/lib/python2.7/site-packages/numpy/lib/npyio.pyc\u001b[0m in \u001b[0;36mloadtxt\u001b[0;34m(fname, dtype, comments, delimiter, converters, skiprows, usecols, unpack, ndmin)\u001b[0m\n\u001b[1;32m    736\u001b[0m                 \u001b[0mfh\u001b[0m \u001b[0;34m=\u001b[0m \u001b[0miter\u001b[0m\u001b[0;34m(\u001b[0m\u001b[0mbz2\u001b[0m\u001b[0;34m.\u001b[0m\u001b[0mBZ2File\u001b[0m\u001b[0;34m(\u001b[0m\u001b[0mfname\u001b[0m\u001b[0;34m)\u001b[0m\u001b[0;34m)\u001b[0m\u001b[0;34m\u001b[0m\u001b[0m\n\u001b[1;32m    737\u001b[0m             \u001b[0;32melif\u001b[0m \u001b[0msys\u001b[0m\u001b[0;34m.\u001b[0m\u001b[0mversion_info\u001b[0m\u001b[0;34m[\u001b[0m\u001b[0;36m0\u001b[0m\u001b[0;34m]\u001b[0m \u001b[0;34m==\u001b[0m \u001b[0;36m2\u001b[0m\u001b[0;34m:\u001b[0m\u001b[0;34m\u001b[0m\u001b[0m\n\u001b[0;32m--> 738\u001b[0;31m                 \u001b[0mfh\u001b[0m \u001b[0;34m=\u001b[0m \u001b[0miter\u001b[0m\u001b[0;34m(\u001b[0m\u001b[0mopen\u001b[0m\u001b[0;34m(\u001b[0m\u001b[0mfname\u001b[0m\u001b[0;34m,\u001b[0m \u001b[0;34m'U'\u001b[0m\u001b[0;34m)\u001b[0m\u001b[0;34m)\u001b[0m\u001b[0;34m\u001b[0m\u001b[0m\n\u001b[0m\u001b[1;32m    739\u001b[0m             \u001b[0;32melse\u001b[0m\u001b[0;34m:\u001b[0m\u001b[0;34m\u001b[0m\u001b[0m\n\u001b[1;32m    740\u001b[0m                 \u001b[0mfh\u001b[0m \u001b[0;34m=\u001b[0m \u001b[0miter\u001b[0m\u001b[0;34m(\u001b[0m\u001b[0mopen\u001b[0m\u001b[0;34m(\u001b[0m\u001b[0mfname\u001b[0m\u001b[0;34m)\u001b[0m\u001b[0;34m)\u001b[0m\u001b[0;34m\u001b[0m\u001b[0m\n",
        "\u001b[0;31mIOError\u001b[0m: [Errno 2] No such file or directory: 'aapl_2008_close_values.csv'"
       ]
      }
     ],
     "prompt_number": 61
    },
    {
     "cell_type": "code",
     "collapsed": false,
     "input": [
      "prices = loadtxt(\"aapl_2008_close_values.csv\", usecols=[1], delimiter=\",\")"
     ],
     "language": "python",
     "metadata": {},
     "outputs": [
      {
       "ename": "IOError",
       "evalue": "[Errno 2] No such file or directory: 'aapl_2008_close_values.csv'",
       "output_type": "pyerr",
       "traceback": [
        "\u001b[0;31m---------------------------------------------------------------------------\u001b[0m\n\u001b[0;31mIOError\u001b[0m                                   Traceback (most recent call last)",
        "\u001b[0;32m<ipython-input-62-6fbd0451db5f>\u001b[0m in \u001b[0;36m<module>\u001b[0;34m()\u001b[0m\n\u001b[0;32m----> 1\u001b[0;31m \u001b[0mprices\u001b[0m \u001b[0;34m=\u001b[0m \u001b[0mloadtxt\u001b[0m\u001b[0;34m(\u001b[0m\u001b[0;34m\"aapl_2008_close_values.csv\"\u001b[0m\u001b[0;34m,\u001b[0m \u001b[0musecols\u001b[0m\u001b[0;34m=\u001b[0m\u001b[0;34m[\u001b[0m\u001b[0;36m1\u001b[0m\u001b[0;34m]\u001b[0m\u001b[0;34m,\u001b[0m \u001b[0mdelimiter\u001b[0m\u001b[0;34m=\u001b[0m\u001b[0;34m\",\"\u001b[0m\u001b[0;34m)\u001b[0m\u001b[0;34m\u001b[0m\u001b[0m\n\u001b[0m",
        "\u001b[0;32m/Users/zod/Library/Enthought/Canopy_64bit/User/lib/python2.7/site-packages/numpy/lib/npyio.pyc\u001b[0m in \u001b[0;36mloadtxt\u001b[0;34m(fname, dtype, comments, delimiter, converters, skiprows, usecols, unpack, ndmin)\u001b[0m\n\u001b[1;32m    736\u001b[0m                 \u001b[0mfh\u001b[0m \u001b[0;34m=\u001b[0m \u001b[0miter\u001b[0m\u001b[0;34m(\u001b[0m\u001b[0mbz2\u001b[0m\u001b[0;34m.\u001b[0m\u001b[0mBZ2File\u001b[0m\u001b[0;34m(\u001b[0m\u001b[0mfname\u001b[0m\u001b[0;34m)\u001b[0m\u001b[0;34m)\u001b[0m\u001b[0;34m\u001b[0m\u001b[0m\n\u001b[1;32m    737\u001b[0m             \u001b[0;32melif\u001b[0m \u001b[0msys\u001b[0m\u001b[0;34m.\u001b[0m\u001b[0mversion_info\u001b[0m\u001b[0;34m[\u001b[0m\u001b[0;36m0\u001b[0m\u001b[0;34m]\u001b[0m \u001b[0;34m==\u001b[0m \u001b[0;36m2\u001b[0m\u001b[0;34m:\u001b[0m\u001b[0;34m\u001b[0m\u001b[0m\n\u001b[0;32m--> 738\u001b[0;31m                 \u001b[0mfh\u001b[0m \u001b[0;34m=\u001b[0m \u001b[0miter\u001b[0m\u001b[0;34m(\u001b[0m\u001b[0mopen\u001b[0m\u001b[0;34m(\u001b[0m\u001b[0mfname\u001b[0m\u001b[0;34m,\u001b[0m \u001b[0;34m'U'\u001b[0m\u001b[0;34m)\u001b[0m\u001b[0;34m)\u001b[0m\u001b[0;34m\u001b[0m\u001b[0m\n\u001b[0m\u001b[1;32m    739\u001b[0m             \u001b[0;32melse\u001b[0m\u001b[0;34m:\u001b[0m\u001b[0;34m\u001b[0m\u001b[0m\n\u001b[1;32m    740\u001b[0m                 \u001b[0mfh\u001b[0m \u001b[0;34m=\u001b[0m \u001b[0miter\u001b[0m\u001b[0;34m(\u001b[0m\u001b[0mopen\u001b[0m\u001b[0;34m(\u001b[0m\u001b[0mfname\u001b[0m\u001b[0;34m)\u001b[0m\u001b[0;34m)\u001b[0m\u001b[0;34m\u001b[0m\u001b[0m\n",
        "\u001b[0;31mIOError\u001b[0m: [Errno 2] No such file or directory: 'aapl_2008_close_values.csv'"
       ]
      }
     ],
     "prompt_number": 62
    },
    {
     "cell_type": "code",
     "collapsed": false,
     "input": [
      "pwd"
     ],
     "language": "python",
     "metadata": {},
     "outputs": [
      {
       "metadata": {},
       "output_type": "pyout",
       "prompt_number": 63,
       "text": [
        "u'/Users/zod/.canopy/ipython_notebooks'"
       ]
      }
     ],
     "prompt_number": 63
    },
    {
     "cell_type": "code",
     "collapsed": false,
     "input": [
      "prices = loadtxt(\"/Users/zod/Desktop/Enthought_June2015_course/materials/exercises/numpy/calc_return/aapl_2008_close_values.csv\", usecols=[1], delimiter=\",\")"
     ],
     "language": "python",
     "metadata": {},
     "outputs": [],
     "prompt_number": 64
    },
    {
     "cell_type": "code",
     "collapsed": false,
     "input": [
      "print(prices)"
     ],
     "language": "python",
     "metadata": {},
     "outputs": [
      {
       "output_type": "stream",
       "stream": "stdout",
       "text": [
        "[ 194.84  194.93  180.05  177.64  171.25  179.4   178.02  172.69  178.78\n",
        "  169.04  159.64  160.89  161.36  155.64  139.07  135.6   130.01  130.01\n",
        "  131.54  132.18  135.36  133.75  131.65  129.36  122.    121.24  125.48\n",
        "  129.45  124.86  129.4   127.46  124.63  122.18  123.82  121.54  119.46\n",
        "  119.74  119.15  122.96  129.91  125.02  121.73  124.62  124.49  120.93\n",
        "  122.25  119.69  127.35  126.03  127.94  126.61  126.73  132.82  129.67\n",
        "  133.27  139.53  140.98  145.06  140.25  143.01  143.5   149.53  147.49\n",
        "  151.61  153.08  155.89  152.84  151.44  154.55  147.14  147.78  148.38\n",
        "  153.7   154.49  161.04  168.16  160.2   162.89  168.94  169.73  172.24\n",
        "  175.05  173.95  180.    180.94  184.73  186.66  182.59  185.06  183.45\n",
        "  188.16  189.96  186.26  189.73  187.62  183.6   185.9   178.19  177.05\n",
        "  181.17  186.43  187.01  186.69  188.75  186.1   185.37  185.19  189.43\n",
        "  185.64  181.61  185.64  180.81  173.26  172.37  176.84  181.43  178.75\n",
        "  180.9   175.27  173.16  173.25  177.39  168.26  170.09  167.44  174.68\n",
        "  168.18  170.12  175.16  179.55  174.25  176.63  172.58  173.88  169.64\n",
        "  172.81  171.81  165.15  166.29  162.02  166.26  159.03  162.12  154.4\n",
        "  157.08  159.88  158.95  156.66  153.23  160.64  164.19  163.57  169.55\n",
        "  173.56  176.73  179.3   179.32  175.74  175.39  173.53  175.84  174.29\n",
        "  176.79  172.55  173.64  174.67  173.74  169.53  166.19  166.96  161.22\n",
        "  160.18  157.92  151.68  151.61  152.65  148.94  140.36  139.88  127.83\n",
        "  134.09  140.91  131.05  126.84  128.71  131.93  128.24  105.26  113.66\n",
        "  109.12  100.1    97.07   98.14   89.16   89.79   88.74   96.8   110.26\n",
        "  104.08   97.95  101.89   97.4    98.44   91.49   96.87   98.23   96.38\n",
        "   92.09   99.91  104.55  111.04  107.59  106.96  110.99  103.3    99.1\n",
        "   98.24   95.88   94.77   90.12   96.44   90.24   88.14   89.91   86.29\n",
        "   80.49   82.58   92.95   90.8    95.     92.67   88.93   92.47   95.9\n",
        "   91.41   94.     99.72  100.06   98.21   95.     98.27   94.75   95.43\n",
        "   89.16   89.43   90.     85.74   86.38   85.04   85.81   86.61   86.29\n",
        "   85.35]\n"
       ]
      }
     ],
     "prompt_number": 65
    },
    {
     "cell_type": "code",
     "collapsed": false,
     "input": [
      "diffs = prices[1:] - prices[:-1]"
     ],
     "language": "python",
     "metadata": {},
     "outputs": [],
     "prompt_number": 66
    },
    {
     "cell_type": "code",
     "collapsed": false,
     "input": [
      "diffs"
     ],
     "language": "python",
     "metadata": {},
     "outputs": [
      {
       "metadata": {},
       "output_type": "pyout",
       "prompt_number": 67,
       "text": [
        "array([  9.00000000e-02,  -1.48800000e+01,  -2.41000000e+00,\n",
        "        -6.39000000e+00,   8.15000000e+00,  -1.38000000e+00,\n",
        "        -5.33000000e+00,   6.09000000e+00,  -9.74000000e+00,\n",
        "        -9.40000000e+00,   1.25000000e+00,   4.70000000e-01,\n",
        "        -5.72000000e+00,  -1.65700000e+01,  -3.47000000e+00,\n",
        "        -5.59000000e+00,   0.00000000e+00,   1.53000000e+00,\n",
        "         6.40000000e-01,   3.18000000e+00,  -1.61000000e+00,\n",
        "        -2.10000000e+00,  -2.29000000e+00,  -7.36000000e+00,\n",
        "        -7.60000000e-01,   4.24000000e+00,   3.97000000e+00,\n",
        "        -4.59000000e+00,   4.54000000e+00,  -1.94000000e+00,\n",
        "        -2.83000000e+00,  -2.45000000e+00,   1.64000000e+00,\n",
        "        -2.28000000e+00,  -2.08000000e+00,   2.80000000e-01,\n",
        "        -5.90000000e-01,   3.81000000e+00,   6.95000000e+00,\n",
        "        -4.89000000e+00,  -3.29000000e+00,   2.89000000e+00,\n",
        "        -1.30000000e-01,  -3.56000000e+00,   1.32000000e+00,\n",
        "        -2.56000000e+00,   7.66000000e+00,  -1.32000000e+00,\n",
        "         1.91000000e+00,  -1.33000000e+00,   1.20000000e-01,\n",
        "         6.09000000e+00,  -3.15000000e+00,   3.60000000e+00,\n",
        "         6.26000000e+00,   1.45000000e+00,   4.08000000e+00,\n",
        "        -4.81000000e+00,   2.76000000e+00,   4.90000000e-01,\n",
        "         6.03000000e+00,  -2.04000000e+00,   4.12000000e+00,\n",
        "         1.47000000e+00,   2.81000000e+00,  -3.05000000e+00,\n",
        "        -1.40000000e+00,   3.11000000e+00,  -7.41000000e+00,\n",
        "         6.40000000e-01,   6.00000000e-01,   5.32000000e+00,\n",
        "         7.90000000e-01,   6.55000000e+00,   7.12000000e+00,\n",
        "        -7.96000000e+00,   2.69000000e+00,   6.05000000e+00,\n",
        "         7.90000000e-01,   2.51000000e+00,   2.81000000e+00,\n",
        "        -1.10000000e+00,   6.05000000e+00,   9.40000000e-01,\n",
        "         3.79000000e+00,   1.93000000e+00,  -4.07000000e+00,\n",
        "         2.47000000e+00,  -1.61000000e+00,   4.71000000e+00,\n",
        "         1.80000000e+00,  -3.70000000e+00,   3.47000000e+00,\n",
        "        -2.11000000e+00,  -4.02000000e+00,   2.30000000e+00,\n",
        "        -7.71000000e+00,  -1.14000000e+00,   4.12000000e+00,\n",
        "         5.26000000e+00,   5.80000000e-01,  -3.20000000e-01,\n",
        "         2.06000000e+00,  -2.65000000e+00,  -7.30000000e-01,\n",
        "        -1.80000000e-01,   4.24000000e+00,  -3.79000000e+00,\n",
        "        -4.03000000e+00,   4.03000000e+00,  -4.83000000e+00,\n",
        "        -7.55000000e+00,  -8.90000000e-01,   4.47000000e+00,\n",
        "         4.59000000e+00,  -2.68000000e+00,   2.15000000e+00,\n",
        "        -5.63000000e+00,  -2.11000000e+00,   9.00000000e-02,\n",
        "         4.14000000e+00,  -9.13000000e+00,   1.83000000e+00,\n",
        "        -2.65000000e+00,   7.24000000e+00,  -6.50000000e+00,\n",
        "         1.94000000e+00,   5.04000000e+00,   4.39000000e+00,\n",
        "        -5.30000000e+00,   2.38000000e+00,  -4.05000000e+00,\n",
        "         1.30000000e+00,  -4.24000000e+00,   3.17000000e+00,\n",
        "        -1.00000000e+00,  -6.66000000e+00,   1.14000000e+00,\n",
        "        -4.27000000e+00,   4.24000000e+00,  -7.23000000e+00,\n",
        "         3.09000000e+00,  -7.72000000e+00,   2.68000000e+00,\n",
        "         2.80000000e+00,  -9.30000000e-01,  -2.29000000e+00,\n",
        "        -3.43000000e+00,   7.41000000e+00,   3.55000000e+00,\n",
        "        -6.20000000e-01,   5.98000000e+00,   4.01000000e+00,\n",
        "         3.17000000e+00,   2.57000000e+00,   2.00000000e-02,\n",
        "        -3.58000000e+00,  -3.50000000e-01,  -1.86000000e+00,\n",
        "         2.31000000e+00,  -1.55000000e+00,   2.50000000e+00,\n",
        "        -4.24000000e+00,   1.09000000e+00,   1.03000000e+00,\n",
        "        -9.30000000e-01,  -4.21000000e+00,  -3.34000000e+00,\n",
        "         7.70000000e-01,  -5.74000000e+00,  -1.04000000e+00,\n",
        "        -2.26000000e+00,  -6.24000000e+00,  -7.00000000e-02,\n",
        "         1.04000000e+00,  -3.71000000e+00,  -8.58000000e+00,\n",
        "        -4.80000000e-01,  -1.20500000e+01,   6.26000000e+00,\n",
        "         6.82000000e+00,  -9.86000000e+00,  -4.21000000e+00,\n",
        "         1.87000000e+00,   3.22000000e+00,  -3.69000000e+00,\n",
        "        -2.29800000e+01,   8.40000000e+00,  -4.54000000e+00,\n",
        "        -9.02000000e+00,  -3.03000000e+00,   1.07000000e+00,\n",
        "        -8.98000000e+00,   6.30000000e-01,  -1.05000000e+00,\n",
        "         8.06000000e+00,   1.34600000e+01,  -6.18000000e+00,\n",
        "        -6.13000000e+00,   3.94000000e+00,  -4.49000000e+00,\n",
        "         1.04000000e+00,  -6.95000000e+00,   5.38000000e+00,\n",
        "         1.36000000e+00,  -1.85000000e+00,  -4.29000000e+00,\n",
        "         7.82000000e+00,   4.64000000e+00,   6.49000000e+00,\n",
        "        -3.45000000e+00,  -6.30000000e-01,   4.03000000e+00,\n",
        "        -7.69000000e+00,  -4.20000000e+00,  -8.60000000e-01,\n",
        "        -2.36000000e+00,  -1.11000000e+00,  -4.65000000e+00,\n",
        "         6.32000000e+00,  -6.20000000e+00,  -2.10000000e+00,\n",
        "         1.77000000e+00,  -3.62000000e+00,  -5.80000000e+00,\n",
        "         2.09000000e+00,   1.03700000e+01,  -2.15000000e+00,\n",
        "         4.20000000e+00,  -2.33000000e+00,  -3.74000000e+00,\n",
        "         3.54000000e+00,   3.43000000e+00,  -4.49000000e+00,\n",
        "         2.59000000e+00,   5.72000000e+00,   3.40000000e-01,\n",
        "        -1.85000000e+00,  -3.21000000e+00,   3.27000000e+00,\n",
        "        -3.52000000e+00,   6.80000000e-01,  -6.27000000e+00,\n",
        "         2.70000000e-01,   5.70000000e-01,  -4.26000000e+00,\n",
        "         6.40000000e-01,  -1.34000000e+00,   7.70000000e-01,\n",
        "         8.00000000e-01,  -3.20000000e-01,  -9.40000000e-01])"
       ]
      }
     ],
     "prompt_number": 67
    },
    {
     "cell_type": "code",
     "collapsed": false,
     "input": [
      "returns = diffs / prices[:-1]"
     ],
     "language": "python",
     "metadata": {},
     "outputs": [],
     "prompt_number": 68
    },
    {
     "cell_type": "code",
     "collapsed": false,
     "input": [
      "returns"
     ],
     "language": "python",
     "metadata": {},
     "outputs": [
      {
       "metadata": {},
       "output_type": "pyout",
       "prompt_number": 69,
       "text": [
        "array([  4.61917471e-04,  -7.63350946e-02,  -1.33851708e-02,\n",
        "        -3.59716280e-02,   4.75912409e-02,  -7.69230769e-03,\n",
        "        -2.99404561e-02,   3.52655047e-02,  -5.44803669e-02,\n",
        "        -5.56081401e-02,   7.83011776e-03,   2.92125054e-03,\n",
        "        -3.54486862e-02,  -1.06463634e-01,  -2.49514633e-02,\n",
        "        -4.12241888e-02,   0.00000000e+00,   1.17683255e-02,\n",
        "         4.86544017e-03,   2.40581026e-02,  -1.18942080e-02,\n",
        "        -1.57009346e-02,  -1.73946069e-02,  -5.68954855e-02,\n",
        "        -6.22950820e-03,   3.49719565e-02,   3.16385081e-02,\n",
        "        -3.54577057e-02,   3.63607240e-02,  -1.49922720e-02,\n",
        "        -2.22030441e-02,  -1.96581882e-02,   1.34228188e-02,\n",
        "        -1.84138265e-02,  -1.71137074e-02,   2.34388080e-03,\n",
        "        -4.92734258e-03,   3.19765002e-02,   5.65224463e-02,\n",
        "        -3.76414441e-02,  -2.63157895e-02,   2.37410663e-02,\n",
        "        -1.04317124e-03,  -2.85966744e-02,   1.09154056e-02,\n",
        "        -2.09406953e-02,   6.39986632e-02,  -1.03651355e-02,\n",
        "         1.51551218e-02,  -1.03954979e-02,   9.47792433e-04,\n",
        "         4.80549199e-02,  -2.37163078e-02,   2.77627824e-02,\n",
        "         4.69723118e-02,   1.03920304e-02,   2.89402752e-02,\n",
        "        -3.31586930e-02,   1.96791444e-02,   3.42633382e-03,\n",
        "         4.20209059e-02,  -1.36427473e-02,   2.79340972e-02,\n",
        "         9.69593035e-03,   1.83564149e-02,  -1.95650779e-02,\n",
        "        -9.15990578e-03,   2.05361859e-02,  -4.79456487e-02,\n",
        "         4.34959902e-03,   4.06008932e-03,   3.58538887e-02,\n",
        "         5.13988289e-03,   4.23975662e-02,   4.42126180e-02,\n",
        "        -4.73358706e-02,   1.67915106e-02,   3.71416293e-02,\n",
        "         4.67621641e-03,   1.47881930e-02,   1.63144450e-02,\n",
        "        -6.28391888e-03,   3.47801092e-02,   5.22222222e-03,\n",
        "         2.09461700e-02,   1.04476804e-02,  -2.18043502e-02,\n",
        "         1.35275754e-02,  -8.69988112e-03,   2.56745707e-02,\n",
        "         9.56632653e-03,  -1.94777848e-02,   1.86298722e-02,\n",
        "        -1.11210668e-02,  -2.14262872e-02,   1.25272331e-02,\n",
        "        -4.14739107e-02,  -6.39766541e-03,   2.32702626e-02,\n",
        "         2.90335044e-02,   3.11108727e-03,  -1.71113844e-03,\n",
        "         1.10343350e-02,  -1.40397351e-02,  -3.92262225e-03,\n",
        "        -9.71030911e-04,   2.28954047e-02,  -2.00073906e-02,\n",
        "        -2.17086835e-02,   2.21904080e-02,  -2.60180995e-02,\n",
        "        -4.17565400e-02,  -5.13678864e-03,   2.59325869e-02,\n",
        "         2.59556661e-02,  -1.47715372e-02,   1.20279720e-02,\n",
        "        -3.11221669e-02,  -1.20385691e-02,   5.19750520e-04,\n",
        "         2.38961039e-02,  -5.14685157e-02,   1.08760252e-02,\n",
        "        -1.55799871e-02,   4.32393693e-02,  -3.72108999e-02,\n",
        "         1.15352598e-02,   2.96261462e-02,   2.50627997e-02,\n",
        "        -2.95182400e-02,   1.36585366e-02,  -2.29292872e-02,\n",
        "         7.53273844e-03,  -2.43846331e-02,   1.86866305e-02,\n",
        "        -5.78670216e-03,  -3.87637507e-02,   6.90281562e-03,\n",
        "        -2.56780324e-02,   2.61696087e-02,  -4.34861061e-02,\n",
        "         1.94302962e-02,  -4.76190476e-02,   1.73575130e-02,\n",
        "         1.78253119e-02,  -5.81686265e-03,  -1.44070462e-02,\n",
        "        -2.18945487e-02,   4.83586765e-02,   2.20991036e-02,\n",
        "        -3.77611304e-03,   3.65592713e-02,   2.36508405e-02,\n",
        "         1.82645771e-02,   1.45419567e-02,   1.11544897e-04,\n",
        "        -1.99643096e-02,  -1.99157847e-03,  -1.06049376e-02,\n",
        "         1.33118193e-02,  -8.81483167e-03,   1.43439096e-02,\n",
        "        -2.39832570e-02,   6.31700956e-03,   5.93181295e-03,\n",
        "        -5.32432587e-03,  -2.42316105e-02,  -1.97015278e-02,\n",
        "         4.63325110e-03,  -3.43794921e-02,  -6.45081255e-03,\n",
        "        -1.41091272e-02,  -3.95136778e-02,  -4.61497890e-04,\n",
        "         6.85970582e-03,  -2.43039633e-02,  -5.76070901e-02,\n",
        "        -3.41977771e-03,  -8.61452674e-02,   4.89712900e-02,\n",
        "         5.08613618e-02,  -6.99737421e-02,  -3.21251431e-02,\n",
        "         1.47429833e-02,   2.50174812e-02,  -2.79693777e-02,\n",
        "        -1.79195259e-01,   7.98023941e-02,  -3.99436917e-02,\n",
        "        -8.26612903e-02,  -3.02697303e-02,   1.10229731e-02,\n",
        "        -9.15019360e-02,   7.06594886e-03,  -1.16939526e-02,\n",
        "         9.08271355e-02,   1.39049587e-01,  -5.60493379e-02,\n",
        "        -5.88970023e-02,   4.02246044e-02,  -4.40671312e-02,\n",
        "         1.06776181e-02,  -7.06013816e-02,   5.88042409e-02,\n",
        "         1.40394343e-02,  -1.88333503e-02,  -4.45113094e-02,\n",
        "         8.49169291e-02,   4.64417976e-02,   6.20755619e-02,\n",
        "        -3.10698847e-02,  -5.85556278e-03,   3.76776365e-02,\n",
        "        -6.92855212e-02,  -4.06582769e-02,  -8.67810293e-03,\n",
        "        -2.40228013e-02,  -1.15769712e-02,  -4.90661602e-02,\n",
        "         7.01287173e-02,  -6.42886769e-02,  -2.32712766e-02,\n",
        "         2.00816882e-02,  -4.02624847e-02,  -6.72152045e-02,\n",
        "         2.59659585e-02,   1.25575200e-01,  -2.31307154e-02,\n",
        "         4.62555066e-02,  -2.45263158e-02,  -4.03582605e-02,\n",
        "         3.98065895e-02,   3.70931113e-02,  -4.68196038e-02,\n",
        "         2.83338803e-02,   6.08510638e-02,   3.40954673e-03,\n",
        "        -1.84889067e-02,  -3.26850626e-02,   3.44210526e-02,\n",
        "        -3.58196805e-02,   7.17678100e-03,  -6.57026092e-02,\n",
        "         3.02826380e-03,   6.37370010e-03,  -4.73333333e-02,\n",
        "         7.46442734e-03,  -1.55128502e-02,   9.05456256e-03,\n",
        "         9.32292274e-03,  -3.69472347e-03,  -1.08934987e-02])"
       ]
      }
     ],
     "prompt_number": 69
    },
    {
     "cell_type": "code",
     "collapsed": false,
     "input": [
      "days = arange(len(returns))"
     ],
     "language": "python",
     "metadata": {},
     "outputs": [],
     "prompt_number": 70
    },
    {
     "cell_type": "code",
     "collapsed": false,
     "input": [
      "zero_line = zeros(len(returns))"
     ],
     "language": "python",
     "metadata": {},
     "outputs": [],
     "prompt_number": 71
    },
    {
     "cell_type": "code",
     "collapsed": false,
     "input": [
      "plot(days, zero_line, 'k-', days, returns * 100, 'g-')"
     ],
     "language": "python",
     "metadata": {},
     "outputs": [
      {
       "metadata": {},
       "output_type": "pyout",
       "prompt_number": 73,
       "text": [
        "[<matplotlib.lines.Line2D at 0x10ee267d0>,\n",
        " <matplotlib.lines.Line2D at 0x10ee26a50>]"
       ]
      },
      {
       "metadata": {},
       "output_type": "display_data",
       "png": "[encoded data removed]",
       "text": [
        "<matplotlib.figure.Figure at 0x10e55c450>"
       ]
      }
     ],
     "prompt_number": 73
    },
    {
     "cell_type": "code",
     "collapsed": false,
     "input": [
      "days"
     ],
     "language": "python",
     "metadata": {},
     "outputs": [
      {
       "metadata": {},
       "output_type": "pyout",
       "prompt_number": 74,
       "text": [
        "array([  0,   1,   2,   3,   4,   5,   6,   7,   8,   9,  10,  11,  12,\n",
        "        13,  14,  15,  16,  17,  18,  19,  20,  21,  22,  23,  24,  25,\n",
        "        26,  27,  28,  29,  30,  31,  32,  33,  34,  35,  36,  37,  38,\n",
        "        39,  40,  41,  42,  43,  44,  45,  46,  47,  48,  49,  50,  51,\n",
        "        52,  53,  54,  55,  56,  57,  58,  59,  60,  61,  62,  63,  64,\n",
        "        65,  66,  67,  68,  69,  70,  71,  72,  73,  74,  75,  76,  77,\n",
        "        78,  79,  80,  81,  82,  83,  84,  85,  86,  87,  88,  89,  90,\n",
        "        91,  92,  93,  94,  95,  96,  97,  98,  99, 100, 101, 102, 103,\n",
        "       104, 105, 106, 107, 108, 109, 110, 111, 112, 113, 114, 115, 116,\n",
        "       117, 118, 119, 120, 121, 122, 123, 124, 125, 126, 127, 128, 129,\n",
        "       130, 131, 132, 133, 134, 135, 136, 137, 138, 139, 140, 141, 142,\n",
        "       143, 144, 145, 146, 147, 148, 149, 150, 151, 152, 153, 154, 155,\n",
        "       156, 157, 158, 159, 160, 161, 162, 163, 164, 165, 166, 167, 168,\n",
        "       169, 170, 171, 172, 173, 174, 175, 176, 177, 178, 179, 180, 181,\n",
        "       182, 183, 184, 185, 186, 187, 188, 189, 190, 191, 192, 193, 194,\n",
        "       195, 196, 197, 198, 199, 200, 201, 202, 203, 204, 205, 206, 207,\n",
        "       208, 209, 210, 211, 212, 213, 214, 215, 216, 217, 218, 219, 220,\n",
        "       221, 222, 223, 224, 225, 226, 227, 228, 229, 230, 231, 232, 233,\n",
        "       234, 235, 236, 237, 238, 239, 240, 241, 242, 243, 244, 245, 246,\n",
        "       247, 248, 249, 250, 251])"
       ]
      }
     ],
     "prompt_number": 74
    },
    {
     "cell_type": "code",
     "collapsed": false,
     "input": [
      "idx = arange(len(prices)-1)"
     ],
     "language": "python",
     "metadata": {},
     "outputs": [],
     "prompt_number": 75
    },
    {
     "cell_type": "code",
     "collapsed": false,
     "input": [
      "prices[idx]"
     ],
     "language": "python",
     "metadata": {},
     "outputs": [
      {
       "metadata": {},
       "output_type": "pyout",
       "prompt_number": 76,
       "text": [
        "array([ 194.84,  194.93,  180.05,  177.64,  171.25,  179.4 ,  178.02,\n",
        "        172.69,  178.78,  169.04,  159.64,  160.89,  161.36,  155.64,\n",
        "        139.07,  135.6 ,  130.01,  130.01,  131.54,  132.18,  135.36,\n",
        "        133.75,  131.65,  129.36,  122.  ,  121.24,  125.48,  129.45,\n",
        "        124.86,  129.4 ,  127.46,  124.63,  122.18,  123.82,  121.54,\n",
        "        119.46,  119.74,  119.15,  122.96,  129.91,  125.02,  121.73,\n",
        "        124.62,  124.49,  120.93,  122.25,  119.69,  127.35,  126.03,\n",
        "        127.94,  126.61,  126.73,  132.82,  129.67,  133.27,  139.53,\n",
        "        140.98,  145.06,  140.25,  143.01,  143.5 ,  149.53,  147.49,\n",
        "        151.61,  153.08,  155.89,  152.84,  151.44,  154.55,  147.14,\n",
        "        147.78,  148.38,  153.7 ,  154.49,  161.04,  168.16,  160.2 ,\n",
        "        162.89,  168.94,  169.73,  172.24,  175.05,  173.95,  180.  ,\n",
        "        180.94,  184.73,  186.66,  182.59,  185.06,  183.45,  188.16,\n",
        "        189.96,  186.26,  189.73,  187.62,  183.6 ,  185.9 ,  178.19,\n",
        "        177.05,  181.17,  186.43,  187.01,  186.69,  188.75,  186.1 ,\n",
        "        185.37,  185.19,  189.43,  185.64,  181.61,  185.64,  180.81,\n",
        "        173.26,  172.37,  176.84,  181.43,  178.75,  180.9 ,  175.27,\n",
        "        173.16,  173.25,  177.39,  168.26,  170.09,  167.44,  174.68,\n",
        "        168.18,  170.12,  175.16,  179.55,  174.25,  176.63,  172.58,\n",
        "        173.88,  169.64,  172.81,  171.81,  165.15,  166.29,  162.02,\n",
        "        166.26,  159.03,  162.12,  154.4 ,  157.08,  159.88,  158.95,\n",
        "        156.66,  153.23,  160.64,  164.19,  163.57,  169.55,  173.56,\n",
        "        176.73,  179.3 ,  179.32,  175.74,  175.39,  173.53,  175.84,\n",
        "        174.29,  176.79,  172.55,  173.64,  174.67,  173.74,  169.53,\n",
        "        166.19,  166.96,  161.22,  160.18,  157.92,  151.68,  151.61,\n",
        "        152.65,  148.94,  140.36,  139.88,  127.83,  134.09,  140.91,\n",
        "        131.05,  126.84,  128.71,  131.93,  128.24,  105.26,  113.66,\n",
        "        109.12,  100.1 ,   97.07,   98.14,   89.16,   89.79,   88.74,\n",
        "         96.8 ,  110.26,  104.08,   97.95,  101.89,   97.4 ,   98.44,\n",
        "         91.49,   96.87,   98.23,   96.38,   92.09,   99.91,  104.55,\n",
        "        111.04,  107.59,  106.96,  110.99,  103.3 ,   99.1 ,   98.24,\n",
        "         95.88,   94.77,   90.12,   96.44,   90.24,   88.14,   89.91,\n",
        "         86.29,   80.49,   82.58,   92.95,   90.8 ,   95.  ,   92.67,\n",
        "         88.93,   92.47,   95.9 ,   91.41,   94.  ,   99.72,  100.06,\n",
        "         98.21,   95.  ,   98.27,   94.75,   95.43,   89.16,   89.43,\n",
        "         90.  ,   85.74,   86.38,   85.04,   85.81,   86.61,   86.29])"
       ]
      }
     ],
     "prompt_number": 76
    },
    {
     "cell_type": "code",
     "collapsed": false,
     "input": [
      "return2 = (prices[1:] - prices[:-1]) / prices[:-1]"
     ],
     "language": "python",
     "metadata": {},
     "outputs": [],
     "prompt_number": 77
    },
    {
     "cell_type": "code",
     "collapsed": false,
     "input": [
      "return2"
     ],
     "language": "python",
     "metadata": {},
     "outputs": [
      {
       "metadata": {},
       "output_type": "pyout",
       "prompt_number": 78,
       "text": [
        "array([  4.61917471e-04,  -7.63350946e-02,  -1.33851708e-02,\n",
        "        -3.59716280e-02,   4.75912409e-02,  -7.69230769e-03,\n",
        "        -2.99404561e-02,   3.52655047e-02,  -5.44803669e-02,\n",
        "        -5.56081401e-02,   7.83011776e-03,   2.92125054e-03,\n",
        "        -3.54486862e-02,  -1.06463634e-01,  -2.49514633e-02,\n",
        "        -4.12241888e-02,   0.00000000e+00,   1.17683255e-02,\n",
        "         4.86544017e-03,   2.40581026e-02,  -1.18942080e-02,\n",
        "        -1.57009346e-02,  -1.73946069e-02,  -5.68954855e-02,\n",
        "        -6.22950820e-03,   3.49719565e-02,   3.16385081e-02,\n",
        "        -3.54577057e-02,   3.63607240e-02,  -1.49922720e-02,\n",
        "        -2.22030441e-02,  -1.96581882e-02,   1.34228188e-02,\n",
        "        -1.84138265e-02,  -1.71137074e-02,   2.34388080e-03,\n",
        "        -4.92734258e-03,   3.19765002e-02,   5.65224463e-02,\n",
        "        -3.76414441e-02,  -2.63157895e-02,   2.37410663e-02,\n",
        "        -1.04317124e-03,  -2.85966744e-02,   1.09154056e-02,\n",
        "        -2.09406953e-02,   6.39986632e-02,  -1.03651355e-02,\n",
        "         1.51551218e-02,  -1.03954979e-02,   9.47792433e-04,\n",
        "         4.80549199e-02,  -2.37163078e-02,   2.77627824e-02,\n",
        "         4.69723118e-02,   1.03920304e-02,   2.89402752e-02,\n",
        "        -3.31586930e-02,   1.96791444e-02,   3.42633382e-03,\n",
        "         4.20209059e-02,  -1.36427473e-02,   2.79340972e-02,\n",
        "         9.69593035e-03,   1.83564149e-02,  -1.95650779e-02,\n",
        "        -9.15990578e-03,   2.05361859e-02,  -4.79456487e-02,\n",
        "         4.34959902e-03,   4.06008932e-03,   3.58538887e-02,\n",
        "         5.13988289e-03,   4.23975662e-02,   4.42126180e-02,\n",
        "        -4.73358706e-02,   1.67915106e-02,   3.71416293e-02,\n",
        "         4.67621641e-03,   1.47881930e-02,   1.63144450e-02,\n",
        "        -6.28391888e-03,   3.47801092e-02,   5.22222222e-03,\n",
        "         2.09461700e-02,   1.04476804e-02,  -2.18043502e-02,\n",
        "         1.35275754e-02,  -8.69988112e-03,   2.56745707e-02,\n",
        "         9.56632653e-03,  -1.94777848e-02,   1.86298722e-02,\n",
        "        -1.11210668e-02,  -2.14262872e-02,   1.25272331e-02,\n",
        "        -4.14739107e-02,  -6.39766541e-03,   2.32702626e-02,\n",
        "         2.90335044e-02,   3.11108727e-03,  -1.71113844e-03,\n",
        "         1.10343350e-02,  -1.40397351e-02,  -3.92262225e-03,\n",
        "        -9.71030911e-04,   2.28954047e-02,  -2.00073906e-02,\n",
        "        -2.17086835e-02,   2.21904080e-02,  -2.60180995e-02,\n",
        "        -4.17565400e-02,  -5.13678864e-03,   2.59325869e-02,\n",
        "         2.59556661e-02,  -1.47715372e-02,   1.20279720e-02,\n",
        "        -3.11221669e-02,  -1.20385691e-02,   5.19750520e-04,\n",
        "         2.38961039e-02,  -5.14685157e-02,   1.08760252e-02,\n",
        "        -1.55799871e-02,   4.32393693e-02,  -3.72108999e-02,\n",
        "         1.15352598e-02,   2.96261462e-02,   2.50627997e-02,\n",
        "        -2.95182400e-02,   1.36585366e-02,  -2.29292872e-02,\n",
        "         7.53273844e-03,  -2.43846331e-02,   1.86866305e-02,\n",
        "        -5.78670216e-03,  -3.87637507e-02,   6.90281562e-03,\n",
        "        -2.56780324e-02,   2.61696087e-02,  -4.34861061e-02,\n",
        "         1.94302962e-02,  -4.76190476e-02,   1.73575130e-02,\n",
        "         1.78253119e-02,  -5.81686265e-03,  -1.44070462e-02,\n",
        "        -2.18945487e-02,   4.83586765e-02,   2.20991036e-02,\n",
        "        -3.77611304e-03,   3.65592713e-02,   2.36508405e-02,\n",
        "         1.82645771e-02,   1.45419567e-02,   1.11544897e-04,\n",
        "        -1.99643096e-02,  -1.99157847e-03,  -1.06049376e-02,\n",
        "         1.33118193e-02,  -8.81483167e-03,   1.43439096e-02,\n",
        "        -2.39832570e-02,   6.31700956e-03,   5.93181295e-03,\n",
        "        -5.32432587e-03,  -2.42316105e-02,  -1.97015278e-02,\n",
        "         4.63325110e-03,  -3.43794921e-02,  -6.45081255e-03,\n",
        "        -1.41091272e-02,  -3.95136778e-02,  -4.61497890e-04,\n",
        "         6.85970582e-03,  -2.43039633e-02,  -5.76070901e-02,\n",
        "        -3.41977771e-03,  -8.61452674e-02,   4.89712900e-02,\n",
        "         5.08613618e-02,  -6.99737421e-02,  -3.21251431e-02,\n",
        "         1.47429833e-02,   2.50174812e-02,  -2.79693777e-02,\n",
        "        -1.79195259e-01,   7.98023941e-02,  -3.99436917e-02,\n",
        "        -8.26612903e-02,  -3.02697303e-02,   1.10229731e-02,\n",
        "        -9.15019360e-02,   7.06594886e-03,  -1.16939526e-02,\n",
        "         9.08271355e-02,   1.39049587e-01,  -5.60493379e-02,\n",
        "        -5.88970023e-02,   4.02246044e-02,  -4.40671312e-02,\n",
        "         1.06776181e-02,  -7.06013816e-02,   5.88042409e-02,\n",
        "         1.40394343e-02,  -1.88333503e-02,  -4.45113094e-02,\n",
        "         8.49169291e-02,   4.64417976e-02,   6.20755619e-02,\n",
        "        -3.10698847e-02,  -5.85556278e-03,   3.76776365e-02,\n",
        "        -6.92855212e-02,  -4.06582769e-02,  -8.67810293e-03,\n",
        "        -2.40228013e-02,  -1.15769712e-02,  -4.90661602e-02,\n",
        "         7.01287173e-02,  -6.42886769e-02,  -2.32712766e-02,\n",
        "         2.00816882e-02,  -4.02624847e-02,  -6.72152045e-02,\n",
        "         2.59659585e-02,   1.25575200e-01,  -2.31307154e-02,\n",
        "         4.62555066e-02,  -2.45263158e-02,  -4.03582605e-02,\n",
        "         3.98065895e-02,   3.70931113e-02,  -4.68196038e-02,\n",
        "         2.83338803e-02,   6.08510638e-02,   3.40954673e-03,\n",
        "        -1.84889067e-02,  -3.26850626e-02,   3.44210526e-02,\n",
        "        -3.58196805e-02,   7.17678100e-03,  -6.57026092e-02,\n",
        "         3.02826380e-03,   6.37370010e-03,  -4.73333333e-02,\n",
        "         7.46442734e-03,  -1.55128502e-02,   9.05456256e-03,\n",
        "         9.32292274e-03,  -3.69472347e-03,  -1.08934987e-02])"
       ]
      }
     ],
     "prompt_number": 78
    },
    {
     "cell_type": "code",
     "collapsed": false,
     "input": [
      "hist(returns)"
     ],
     "language": "python",
     "metadata": {},
     "outputs": [
      {
       "metadata": {},
       "output_type": "pyout",
       "prompt_number": 79,
       "text": [
        "(array([  1.,   0.,   3.,  14.,  56.,  94.,  64.,  15.,   3.,   2.]),\n",
        " array([-0.17919526, -0.14737077, -0.11554629, -0.08372181, -0.05189732,\n",
        "        -0.02007284,  0.01175165,  0.04357613,  0.07540062,  0.1072251 ,\n",
        "         0.13904959]),\n",
        " <a list of 10 Patch objects>)"
       ]
      },
      {
       "metadata": {},
       "output_type": "display_data",
       "png": "[encoded data removed]",
       "text": [
        "<matplotlib.figure.Figure at 0x10ee65390>"
       ]
      }
     ],
     "prompt_number": 79
    },
    {
     "cell_type": "code",
     "collapsed": false,
     "input": [
      "e = empty(2)"
     ],
     "language": "python",
     "metadata": {},
     "outputs": [],
     "prompt_number": 80
    },
    {
     "cell_type": "code",
     "collapsed": false,
     "input": [
      "e"
     ],
     "language": "python",
     "metadata": {},
     "outputs": [
      {
       "metadata": {},
       "output_type": "pyout",
       "prompt_number": 81,
       "text": [
        "array([  1.00000000e-07,   1.00000000e-07])"
       ]
      }
     ],
     "prompt_number": 81
    },
    {
     "cell_type": "code",
     "collapsed": false,
     "input": [
      "loadtxt?"
     ],
     "language": "python",
     "metadata": {},
     "outputs": [],
     "prompt_number": 82
    },
    {
     "cell_type": "code",
     "collapsed": false,
     "input": [
      "from numpy import loadtxt"
     ],
     "language": "python",
     "metadata": {},
     "outputs": [],
     "prompt_number": 83
    },
    {
     "cell_type": "code",
     "collapsed": false,
     "input": [
      "ary1 = loadtxt('/Users/zod/Desktop/Enthought_June2015_course/materials/exercises/numpy/load_text/float_data.txt')"
     ],
     "language": "python",
     "metadata": {},
     "outputs": [],
     "prompt_number": 84
    },
    {
     "cell_type": "code",
     "collapsed": false,
     "input": [
      "print('example 1:')"
     ],
     "language": "python",
     "metadata": {},
     "outputs": [
      {
       "output_type": "stream",
       "stream": "stdout",
       "text": [
        "example 1:\n"
       ]
      }
     ],
     "prompt_number": 85
    },
    {
     "cell_type": "code",
     "collapsed": false,
     "input": [
      "print(ary1)"
     ],
     "language": "python",
     "metadata": {},
     "outputs": [
      {
       "output_type": "stream",
       "stream": "stdout",
       "text": [
        "[[ 1.  2.  3.  4.]\n",
        " [ 5.  6.  7.  8.]]\n"
       ]
      }
     ],
     "prompt_number": 86
    },
    {
     "cell_type": "code",
     "collapsed": false,
     "input": [
      "ary2 = loadtxt('/Users/zod/Desktop/Enthought_June2015_course/materials/exercises/numpy/float_data_with_header.txt', skiprows=1)"
     ],
     "language": "python",
     "metadata": {},
     "outputs": [
      {
       "ename": "IOError",
       "evalue": "[Errno 2] No such file or directory: '/Users/zod/Desktop/Enthought_June2015_course/materials/exercises/numpy/float_data_with_header.txt'",
       "output_type": "pyerr",
       "traceback": [
        "\u001b[0;31m---------------------------------------------------------------------------\u001b[0m\n\u001b[0;31mIOError\u001b[0m                                   Traceback (most recent call last)",
        "\u001b[0;32m<ipython-input-87-a06061d4c4bf>\u001b[0m in \u001b[0;36m<module>\u001b[0;34m()\u001b[0m\n\u001b[0;32m----> 1\u001b[0;31m \u001b[0mary2\u001b[0m \u001b[0;34m=\u001b[0m \u001b[0mloadtxt\u001b[0m\u001b[0;34m(\u001b[0m\u001b[0;34m'/Users/zod/Desktop/Enthought_June2015_course/materials/exercises/numpy/float_data_with_header.txt'\u001b[0m\u001b[0;34m,\u001b[0m \u001b[0mskiprows\u001b[0m\u001b[0;34m=\u001b[0m\u001b[0;36m1\u001b[0m\u001b[0;34m)\u001b[0m\u001b[0;34m\u001b[0m\u001b[0m\n\u001b[0m",
        "\u001b[0;32m/Users/zod/Library/Enthought/Canopy_64bit/User/lib/python2.7/site-packages/numpy/lib/npyio.pyc\u001b[0m in \u001b[0;36mloadtxt\u001b[0;34m(fname, dtype, comments, delimiter, converters, skiprows, usecols, unpack, ndmin)\u001b[0m\n\u001b[1;32m    736\u001b[0m                 \u001b[0mfh\u001b[0m \u001b[0;34m=\u001b[0m \u001b[0miter\u001b[0m\u001b[0;34m(\u001b[0m\u001b[0mbz2\u001b[0m\u001b[0;34m.\u001b[0m\u001b[0mBZ2File\u001b[0m\u001b[0;34m(\u001b[0m\u001b[0mfname\u001b[0m\u001b[0;34m)\u001b[0m\u001b[0;34m)\u001b[0m\u001b[0;34m\u001b[0m\u001b[0m\n\u001b[1;32m    737\u001b[0m             \u001b[0;32melif\u001b[0m \u001b[0msys\u001b[0m\u001b[0;34m.\u001b[0m\u001b[0mversion_info\u001b[0m\u001b[0;34m[\u001b[0m\u001b[0;36m0\u001b[0m\u001b[0;34m]\u001b[0m \u001b[0;34m==\u001b[0m \u001b[0;36m2\u001b[0m\u001b[0;34m:\u001b[0m\u001b[0;34m\u001b[0m\u001b[0m\n\u001b[0;32m--> 738\u001b[0;31m                 \u001b[0mfh\u001b[0m \u001b[0;34m=\u001b[0m \u001b[0miter\u001b[0m\u001b[0;34m(\u001b[0m\u001b[0mopen\u001b[0m\u001b[0;34m(\u001b[0m\u001b[0mfname\u001b[0m\u001b[0;34m,\u001b[0m \u001b[0;34m'U'\u001b[0m\u001b[0;34m)\u001b[0m\u001b[0;34m)\u001b[0m\u001b[0;34m\u001b[0m\u001b[0m\n\u001b[0m\u001b[1;32m    739\u001b[0m             \u001b[0;32melse\u001b[0m\u001b[0;34m:\u001b[0m\u001b[0;34m\u001b[0m\u001b[0m\n\u001b[1;32m    740\u001b[0m                 \u001b[0mfh\u001b[0m \u001b[0;34m=\u001b[0m \u001b[0miter\u001b[0m\u001b[0;34m(\u001b[0m\u001b[0mopen\u001b[0m\u001b[0;34m(\u001b[0m\u001b[0mfname\u001b[0m\u001b[0;34m)\u001b[0m\u001b[0;34m)\u001b[0m\u001b[0;34m\u001b[0m\u001b[0m\n",
        "\u001b[0;31mIOError\u001b[0m: [Errno 2] No such file or directory: '/Users/zod/Desktop/Enthought_June2015_course/materials/exercises/numpy/float_data_with_header.txt'"
       ]
      }
     ],
     "prompt_number": 87
    },
    {
     "cell_type": "code",
     "collapsed": false,
     "input": [
      "ary2 = loadtxt('/Users/zod/Desktop/Enthought_June2015_course/materials/exercises/numpy/load_text/float_data_with_header.txt', skiprows=1)"
     ],
     "language": "python",
     "metadata": {},
     "outputs": [],
     "prompt_number": 88
    },
    {
     "cell_type": "code",
     "collapsed": false,
     "input": [
      "xample 2:')\n",
      "print(ary2)"
     ],
     "language": "python",
     "metadata": {},
     "outputs": [
      {
       "ename": "SyntaxError",
       "evalue": "invalid syntax (<ipython-input-89-e400726bda78>, line 1)",
       "output_type": "pyerr",
       "traceback": [
        "\u001b[0;36m  File \u001b[0;32m\"<ipython-input-89-e400726bda78>\"\u001b[0;36m, line \u001b[0;32m1\u001b[0m\n\u001b[0;31m    xample 2:')\u001b[0m\n\u001b[0m           ^\u001b[0m\n\u001b[0;31mSyntaxError\u001b[0m\u001b[0;31m:\u001b[0m invalid syntax\n"
       ]
      }
     ],
     "prompt_number": 89
    },
    {
     "cell_type": "code",
     "collapsed": false,
     "input": [
      "print('example 2:')"
     ],
     "language": "python",
     "metadata": {},
     "outputs": [
      {
       "output_type": "stream",
       "stream": "stdout",
       "text": [
        "example 2:\n"
       ]
      }
     ],
     "prompt_number": 90
    },
    {
     "cell_type": "code",
     "collapsed": false,
     "input": [
      "print(ary2)"
     ],
     "language": "python",
     "metadata": {},
     "outputs": [
      {
       "output_type": "stream",
       "stream": "stdout",
       "text": [
        "[[ 1.  2.  3.  4.]\n",
        " [ 5.  6.  7.  8.]]\n"
       ]
      }
     ],
     "prompt_number": 91
    },
    {
     "cell_type": "code",
     "collapsed": false,
     "input": [
      "ary3 = loadtxt('/Users/zod/Desktop/Enthought_June2015_course/materials/exercises/numpy/load_text/complex_data_file.txt', delimiter=\",\", comments=\"%\",\n",
      "               usecols=(0, 1, 2, 4), dtype=int, skiprows=1)"
     ],
     "language": "python",
     "metadata": {},
     "outputs": [],
     "prompt_number": 92
    },
    {
     "cell_type": "code",
     "collapsed": false,
     "input": [
      "print('example 3:')"
     ],
     "language": "python",
     "metadata": {},
     "outputs": [
      {
       "output_type": "stream",
       "stream": "stdout",
       "text": [
        "example 3:\n"
       ]
      }
     ],
     "prompt_number": 93
    },
    {
     "cell_type": "code",
     "collapsed": false,
     "input": [
      "print(ary3)"
     ],
     "language": "python",
     "metadata": {},
     "outputs": [
      {
       "output_type": "stream",
       "stream": "stdout",
       "text": [
        "[[   1    1 2000   30]\n",
        " [   2    1 2000   41]\n",
        " [   4    1 2000   55]\n",
        " [   5    1 2000   78]\n",
        " [   6    1 2000  134]\n",
        " [   7    1 2000   42]]\n"
       ]
      }
     ],
     "prompt_number": 94
    },
    {
     "cell_type": "code",
     "collapsed": false,
     "input": [
      "a = arange(-12, 13).reshape(5, 5) ** 2"
     ],
     "language": "python",
     "metadata": {},
     "outputs": [],
     "prompt_number": 95
    },
    {
     "cell_type": "code",
     "collapsed": false,
     "input": [
      "a"
     ],
     "language": "python",
     "metadata": {},
     "outputs": [
      {
       "metadata": {},
       "output_type": "pyout",
       "prompt_number": 96,
       "text": [
        "array([[144, 121, 100,  81,  64],\n",
        "       [ 49,  36,  25,  16,   9],\n",
        "       [  4,   1,   0,   1,   4],\n",
        "       [  9,  16,  25,  36,  49],\n",
        "       [ 64,  81, 100, 121, 144]])"
       ]
      }
     ],
     "prompt_number": 96
    },
    {
     "cell_type": "code",
     "collapsed": false,
     "input": [
      "rowmax = a.max(axis=1)"
     ],
     "language": "python",
     "metadata": {},
     "outputs": [],
     "prompt_number": 99
    },
    {
     "cell_type": "code",
     "collapsed": false,
     "input": [
      "amax"
     ],
     "language": "python",
     "metadata": {},
     "outputs": [
      {
       "metadata": {},
       "output_type": "pyout",
       "prompt_number": 98,
       "text": [
        "array([144, 121, 100, 121, 144])"
       ]
      }
     ],
     "prompt_number": 98
    },
    {
     "cell_type": "code",
     "collapsed": false,
     "input": [
      "rowmax"
     ],
     "language": "python",
     "metadata": {},
     "outputs": [
      {
       "metadata": {},
       "output_type": "pyout",
       "prompt_number": 100,
       "text": [
        "array([144,  49,   4,  49, 144])"
       ]
      }
     ],
     "prompt_number": 100
    },
    {
     "cell_type": "code",
     "collapsed": false,
     "input": [
      "colmean = a.mean(axis=0)"
     ],
     "language": "python",
     "metadata": {},
     "outputs": [],
     "prompt_number": 101
    },
    {
     "cell_type": "code",
     "collapsed": false,
     "input": [
      "colmean"
     ],
     "language": "python",
     "metadata": {},
     "outputs": [
      {
       "metadata": {},
       "output_type": "pyout",
       "prompt_number": 102,
       "text": [
        "array([ 54.,  51.,  50.,  51.,  54.])"
       ]
      }
     ],
     "prompt_number": 102
    },
    {
     "cell_type": "code",
     "collapsed": false,
     "input": [
      "pos = argmin(a)"
     ],
     "language": "python",
     "metadata": {},
     "outputs": [],
     "prompt_number": 103
    },
    {
     "cell_type": "code",
     "collapsed": false,
     "input": [
      "row = pos % 5"
     ],
     "language": "python",
     "metadata": {},
     "outputs": [],
     "prompt_number": 104
    },
    {
     "cell_type": "code",
     "collapsed": false,
     "input": [
      " col = pos // 5"
     ],
     "language": "python",
     "metadata": {},
     "outputs": [],
     "prompt_number": 105
    },
    {
     "cell_type": "code",
     "collapsed": false,
     "input": [
      "np.unravel_index(pos, a.shape)"
     ],
     "language": "python",
     "metadata": {},
     "outputs": [
      {
       "metadata": {},
       "output_type": "pyout",
       "prompt_number": 106,
       "text": [
        "(2, 2)"
       ]
      }
     ],
     "prompt_number": 106
    },
    {
     "cell_type": "code",
     "collapsed": false,
     "input": [
      "wind_data = loadtxt('/Users/zod/Desktop/Enthought_June2015_course/materials/exercises/numpy/wind_statistics/wind.data')"
     ],
     "language": "python",
     "metadata": {},
     "outputs": [],
     "prompt_number": 107
    },
    {
     "cell_type": "code",
     "collapsed": false,
     "input": [
      "data = wind_data[:,3:]"
     ],
     "language": "python",
     "metadata": {},
     "outputs": [],
     "prompt_number": 108
    },
    {
     "cell_type": "code",
     "collapsed": false,
     "input": [
      "min_data = amin(data)"
     ],
     "language": "python",
     "metadata": {},
     "outputs": [],
     "prompt_number": 109
    },
    {
     "cell_type": "code",
     "collapsed": false,
     "input": [
      "min_data"
     ],
     "language": "python",
     "metadata": {},
     "outputs": [
      {
       "metadata": {},
       "output_type": "pyout",
       "prompt_number": 110,
       "text": [
        "0.0"
       ]
      }
     ],
     "prompt_number": 110
    },
    {
     "cell_type": "code",
     "collapsed": false,
     "input": [
      "max_data = amax(data)\n",
      "mean_data = amean(data)\n",
      "std_data = astd(data)"
     ],
     "language": "python",
     "metadata": {},
     "outputs": [
      {
       "ename": "TypeError",
       "evalue": "'numpy.ndarray' object is not callable",
       "output_type": "pyerr",
       "traceback": [
        "\u001b[0;31m---------------------------------------------------------------------------\u001b[0m\n\u001b[0;31mTypeError\u001b[0m                                 Traceback (most recent call last)",
        "\u001b[0;32m<ipython-input-111-5a202ed3d005>\u001b[0m in \u001b[0;36m<module>\u001b[0;34m()\u001b[0m\n\u001b[0;32m----> 1\u001b[0;31m \u001b[0mmax_data\u001b[0m \u001b[0;34m=\u001b[0m \u001b[0mamax\u001b[0m\u001b[0;34m(\u001b[0m\u001b[0mdata\u001b[0m\u001b[0;34m)\u001b[0m\u001b[0;34m\u001b[0m\u001b[0m\n\u001b[0m\u001b[1;32m      2\u001b[0m \u001b[0mmean_data\u001b[0m \u001b[0;34m=\u001b[0m \u001b[0mamean\u001b[0m\u001b[0;34m(\u001b[0m\u001b[0mdata\u001b[0m\u001b[0;34m)\u001b[0m\u001b[0;34m\u001b[0m\u001b[0m\n\u001b[1;32m      3\u001b[0m \u001b[0mstd_data\u001b[0m \u001b[0;34m=\u001b[0m \u001b[0mastd\u001b[0m\u001b[0;34m(\u001b[0m\u001b[0mdata\u001b[0m\u001b[0;34m)\u001b[0m\u001b[0;34m\u001b[0m\u001b[0m\n",
        "\u001b[0;31mTypeError\u001b[0m: 'numpy.ndarray' object is not callable"
       ]
      }
     ],
     "prompt_number": 111
    },
    {
     "cell_type": "code",
     "collapsed": false,
     "input": [
      "max_data = data.max()"
     ],
     "language": "python",
     "metadata": {},
     "outputs": [],
     "prompt_number": 115
    },
    {
     "cell_type": "markdown",
     "metadata": {},
     "source": [
      "()\n"
     ]
    },
    {
     "cell_type": "code",
     "collapsed": false,
     "input": [
      "max_data"
     ],
     "language": "python",
     "metadata": {},
     "outputs": [
      {
       "metadata": {},
       "output_type": "pyout",
       "prompt_number": 116,
       "text": [
        "42.539999999999999"
       ]
      }
     ],
     "prompt_number": 116
    },
    {
     "cell_type": "code",
     "collapsed": false,
     "input": [
      "a = array ([[1,2],[3,4]])"
     ],
     "language": "python",
     "metadata": {},
     "outputs": [],
     "prompt_number": 117
    },
    {
     "cell_type": "code",
     "collapsed": false,
     "input": [
      "a.strides"
     ],
     "language": "python",
     "metadata": {},
     "outputs": [
      {
       "metadata": {},
       "output_type": "pyout",
       "prompt_number": 118,
       "text": [
        "(16, 8)"
       ]
      }
     ],
     "prompt_number": 118
    },
    {
     "cell_type": "code",
     "collapsed": false,
     "input": [
      "import numpy as np\n",
      "import matplotlib.pyplot as plt"
     ],
     "language": "python",
     "metadata": {},
     "outputs": [],
     "prompt_number": 119
    },
    {
     "cell_type": "code",
     "collapsed": false,
     "input": [
      "x1 = np.linspace(0 ,10, 100)   "
     ],
     "language": "python",
     "metadata": {},
     "outputs": [],
     "prompt_number": 120
    },
    {
     "cell_type": "code",
     "collapsed": false,
     "input": [
      "y1 = np.sin(x1)      "
     ],
     "language": "python",
     "metadata": {},
     "outputs": [],
     "prompt_number": 121
    },
    {
     "cell_type": "code",
     "collapsed": false,
     "input": [
      "e1 = np.random.ranf(100) * 5.0 "
     ],
     "language": "python",
     "metadata": {},
     "outputs": [],
     "prompt_number": 122
    },
    {
     "cell_type": "code",
     "collapsed": false,
     "input": [
      "y1_noisy = y1 + e1   "
     ],
     "language": "python",
     "metadata": {},
     "outputs": [],
     "prompt_number": 123
    },
    {
     "cell_type": "code",
     "collapsed": false,
     "input": [
      " # generate 100 numbers between 0 and 10\n",
      "x2 = np.linspace(0, 10, 100)  \n",
      " # element-wise sin of each element in x2\n",
      "y2 = np.sin(x2)               \n",
      "# generate noise with amplitude 3.0\n",
      "e2 = np.random.ranf(100)*3.0   \n",
      " # constant offset\n",
      "offset = 3.0                  \n",
      " # make a noisy sin wav offset from the first one\n",
      "y2_noisy = y2 + offset + e2   \n"
     ],
     "language": "python",
     "metadata": {},
     "outputs": [],
     "prompt_number": 124
    },
    {
     "cell_type": "code",
     "collapsed": false,
     "input": [
      "plt.figure()"
     ],
     "language": "python",
     "metadata": {},
     "outputs": [
      {
       "metadata": {},
       "output_type": "pyout",
       "prompt_number": 125,
       "text": [
        "<matplotlib.figure.Figure at 0x10ee3f950>"
       ]
      },
      {
       "metadata": {},
       "output_type": "display_data",
       "text": [
        "<matplotlib.figure.Figure at 0x10ee3f950>"
       ]
      }
     ],
     "prompt_number": 125
    },
    {
     "cell_type": "code",
     "collapsed": false,
     "input": [
      "plt.plot(y1_noisy, 'k-^')"
     ],
     "language": "python",
     "metadata": {},
     "outputs": [
      {
       "metadata": {},
       "output_type": "pyout",
       "prompt_number": 126,
       "text": [
        "[<matplotlib.lines.Line2D at 0x10f05c8d0>]"
       ]
      },
      {
       "metadata": {},
       "output_type": "display_data",
       "png": "[encoded data removed]",
       "text": [
        "<matplotlib.figure.Figure at 0x10ee93d10>"
       ]
      }
     ],
     "prompt_number": 126
    },
    {
     "cell_type": "code",
     "collapsed": false,
     "input": [
      "pwd"
     ],
     "language": "python",
     "metadata": {},
     "outputs": [
      {
       "metadata": {},
       "output_type": "pyout",
       "prompt_number": 127,
       "text": [
        "u'/Users/zod/.canopy/ipython_notebooks'"
       ]
      }
     ],
     "prompt_number": 127
    },
    {
     "cell_type": "code",
     "collapsed": false,
     "input": [
      "fig, ax1 = plt.subplots(1, 1)"
     ],
     "language": "python",
     "metadata": {},
     "outputs": [
      {
       "metadata": {},
       "output_type": "display_data",
       "png": "[encoded data removed]",
       "text": [
        "<matplotlib.figure.Figure at 0x10efb8cd0>"
       ]
      }
     ],
     "prompt_number": 128
    },
    {
     "cell_type": "code",
     "collapsed": false,
     "input": [
      "fig, ax1 = plt.subplot(2,3,1)"
     ],
     "language": "python",
     "metadata": {},
     "outputs": [
      {
       "ename": "TypeError",
       "evalue": "'AxesSubplot' object is not iterable",
       "output_type": "pyerr",
       "traceback": [
        "\u001b[0;31m---------------------------------------------------------------------------\u001b[0m\n\u001b[0;31mTypeError\u001b[0m                                 Traceback (most recent call last)",
        "\u001b[0;32m<ipython-input-129-4abf04ba7535>\u001b[0m in \u001b[0;36m<module>\u001b[0;34m()\u001b[0m\n\u001b[0;32m----> 1\u001b[0;31m \u001b[0mfig\u001b[0m\u001b[0;34m,\u001b[0m \u001b[0max1\u001b[0m \u001b[0;34m=\u001b[0m \u001b[0mplt\u001b[0m\u001b[0;34m.\u001b[0m\u001b[0msubplot\u001b[0m\u001b[0;34m(\u001b[0m\u001b[0;36m2\u001b[0m\u001b[0;34m,\u001b[0m\u001b[0;36m3\u001b[0m\u001b[0;34m,\u001b[0m\u001b[0;36m1\u001b[0m\u001b[0;34m)\u001b[0m\u001b[0;34m\u001b[0m\u001b[0m\n\u001b[0m",
        "\u001b[0;31mTypeError\u001b[0m: 'AxesSubplot' object is not iterable"
       ]
      },
      {
       "metadata": {},
       "output_type": "display_data",
       "png": "[encoded data removed]",
       "text": [
        "<matplotlib.figure.Figure at 0x10f21d3d0>"
       ]
      }
     ],
     "prompt_number": 129
    },
    {
     "cell_type": "code",
     "collapsed": false,
     "input": [
      "plt.subplot(2,3,1)"
     ],
     "language": "python",
     "metadata": {},
     "outputs": [
      {
       "metadata": {},
       "output_type": "pyout",
       "prompt_number": 130,
       "text": [
        "<matplotlib.axes._subplots.AxesSubplot at 0x10f4cd990>"
       ]
      },
      {
       "metadata": {},
       "output_type": "display_data",
       "png": "[encoded data removed]",
       "text": [
        "<matplotlib.figure.Figure at 0x10f4dc3d0>"
       ]
      }
     ],
     "prompt_number": 130
    },
    {
     "cell_type": "code",
     "collapsed": false,
     "input": [
      "plt.plot(y1_noisy, 'r--')"
     ],
     "language": "python",
     "metadata": {},
     "outputs": [
      {
       "metadata": {},
       "output_type": "pyout",
       "prompt_number": 131,
       "text": [
        "[<matplotlib.lines.Line2D at 0x10f670410>]"
       ]
      },
      {
       "metadata": {},
       "output_type": "display_data",
       "png": "[encoded data removed]",
       "text": [
        "<matplotlib.figure.Figure at 0x10f2c2690>"
       ]
      }
     ],
     "prompt_number": 131
    },
    {
     "cell_type": "code",
     "collapsed": false,
     "input": [
      "print IPython.__version__"
     ],
     "language": "python",
     "metadata": {},
     "outputs": [
      {
       "ename": "NameError",
       "evalue": "name 'IPython' is not defined",
       "output_type": "pyerr",
       "traceback": [
        "\u001b[0;31m---------------------------------------------------------------------------\u001b[0m\n\u001b[0;31mNameError\u001b[0m                                 Traceback (most recent call last)",
        "\u001b[0;32m<ipython-input-132-f5dda7f02213>\u001b[0m in \u001b[0;36m<module>\u001b[0;34m()\u001b[0m\n\u001b[0;32m----> 1\u001b[0;31m \u001b[0;32mprint\u001b[0m \u001b[0mIPython\u001b[0m\u001b[0;34m.\u001b[0m\u001b[0m__version__\u001b[0m\u001b[0;34m\u001b[0m\u001b[0m\n\u001b[0m",
        "\u001b[0;31mNameError\u001b[0m: name 'IPython' is not defined"
       ]
      }
     ],
     "prompt_number": 132
    },
    {
     "cell_type": "code",
     "collapsed": false,
     "input": [
      "%pylab inline"
     ],
     "language": "python",
     "metadata": {},
     "outputs": [
      {
       "output_type": "stream",
       "stream": "stdout",
       "text": [
        "Populating the interactive namespace from numpy and matplotlib\n"
       ]
      },
      {
       "output_type": "stream",
       "stream": "stderr",
       "text": [
        "WARNING: pylab import has clobbered these variables: ['amax', 'datetime', 'e']\n",
        "`%matplotlib` prevents importing * from pylab and numpy\n"
       ]
      }
     ],
     "prompt_number": 133
    },
    {
     "cell_type": "code",
     "collapsed": false,
     "input": [
      "%matplotlib inline"
     ],
     "language": "python",
     "metadata": {},
     "outputs": [],
     "prompt_number": 134
    },
    {
     "cell_type": "code",
     "collapsed": false,
     "input": [
      "plt.scatter(y1_noisy, y2_noisy)"
     ],
     "language": "python",
     "metadata": {},
     "outputs": [
      {
       "metadata": {},
       "output_type": "pyout",
       "prompt_number": 135,
       "text": [
        "<matplotlib.collections.PathCollection at 0x10f90b310>"
       ]
      },
      {
       "metadata": {},
       "output_type": "display_data",
       "png": "[encoded data removed]",
       "text": [
        "<matplotlib.figure.Figure at 0x10f6b8d10>"
       ]
      }
     ],
     "prompt_number": 135
    },
    {
     "cell_type": "code",
     "collapsed": false,
     "input": [
      "corrmatrix = np.corrcoef([x1, y1, e1, y1_noisy, x2, y2, e2, y2_noisy])\n",
      "plt.subplot(2,3,4)\n",
      "plt.imshow(corrmatrix, interpolation='nearest')"
     ],
     "language": "python",
     "metadata": {},
     "outputs": [
      {
       "metadata": {},
       "output_type": "pyout",
       "prompt_number": 136,
       "text": [
        "<matplotlib.image.AxesImage at 0x10f8b1310>"
       ]
      },
      {
       "metadata": {},
       "output_type": "display_data",
       "png": "[encoded data removed]",
       "text": [
        "<matplotlib.figure.Figure at 0x10f8b1610>"
       ]
      }
     ],
     "prompt_number": 136
    },
    {
     "cell_type": "code",
     "collapsed": false,
     "input": [
      "plt.imshow(corrmatrix, interpolation='nearest')"
     ],
     "language": "python",
     "metadata": {},
     "outputs": [
      {
       "metadata": {},
       "output_type": "pyout",
       "prompt_number": 137,
       "text": [
        "<matplotlib.image.AxesImage at 0x10fae9e10>"
       ]
      },
      {
       "metadata": {},
       "output_type": "display_data",
       "png": "[encoded data removed]",
       "text": [
        "<matplotlib.figure.Figure at 0x10f925a90>"
       ]
      }
     ],
     "prompt_number": 137
    },
    {
     "cell_type": "code",
     "collapsed": false,
     "input": [
      "plt.subplot(2,3,6)\n",
      "plt.hist(y2_noisy - y1_noisy)"
     ],
     "language": "python",
     "metadata": {},
     "outputs": [
      {
       "metadata": {},
       "output_type": "pyout",
       "prompt_number": 138,
       "text": [
        "(array([  6.,  11.,   9.,  20.,  15.,  15.,  10.,   8.,   3.,   3.]),\n",
        " array([-1.34940706, -0.61613089,  0.11714529,  0.85042146,  1.58369763,\n",
        "         2.31697381,  3.05024998,  3.78352616,  4.51680233,  5.2500785 ,\n",
        "         5.98335468]),\n",
        " <a list of 10 Patch objects>)"
       ]
      },
      {
       "metadata": {},
       "output_type": "display_data",
       "png": "[encoded data removed]",
       "text": [
        "<matplotlib.figure.Figure at 0x10fb2bf10>"
       ]
      }
     ],
     "prompt_number": 138
    },
    {
     "cell_type": "code",
     "collapsed": false,
     "input": [
      "from numpy import loadtxt, sum, where\n",
      "from matplotlib.pyplot import figure, hold, plot, show"
     ],
     "language": "python",
     "metadata": {},
     "outputs": [],
     "prompt_number": 139
    },
    {
     "cell_type": "code",
     "collapsed": false,
     "input": [
      "OPEN = 0\n",
      "HIGH = 1\n",
      "LOW = 2\n",
      "CLOSE = 3\n",
      "VOLUME = 4\n",
      "ADJ_CLOSE = 5"
     ],
     "language": "python",
     "metadata": {},
     "outputs": [],
     "prompt_number": 140
    },
    {
     "cell_type": "code",
     "collapsed": false,
     "input": [
      "dow = loadtxt('/Users/zod/Desktop/Enthought_June2015_course/materials/exercises/numpy/dow_selection/dow.csv', delimiter=',')"
     ],
     "language": "python",
     "metadata": {},
     "outputs": [],
     "prompt_number": 141
    },
    {
     "cell_type": "code",
     "collapsed": false,
     "input": [
      "dow"
     ],
     "language": "python",
     "metadata": {},
     "outputs": [
      {
       "metadata": {},
       "output_type": "pyout",
       "prompt_number": 142,
       "text": [
        "array([[  1.32618200e+04,   1.33382300e+04,   1.29694200e+04,\n",
        "          1.30439600e+04,   3.45265000e+09,   1.30439600e+04],\n",
        "       [  1.30441200e+04,   1.31974300e+04,   1.29684400e+04,\n",
        "          1.30567200e+04,   3.42950000e+09,   1.30567200e+04],\n",
        "       [  1.30465600e+04,   1.30496500e+04,   1.27405100e+04,\n",
        "          1.28001800e+04,   4.16600000e+09,   1.28001800e+04],\n",
        "       ..., \n",
        "       [  1.14124600e+04,   1.15751400e+04,   1.13496900e+04,\n",
        "          1.15025100e+04,   3.49961000e+09,   1.15025100e+04],\n",
        "       [  1.14998700e+04,   1.17564600e+04,   1.14937200e+04,\n",
        "          1.17151800e+04,   3.85428000e+09,   1.17151800e+04],\n",
        "       [  1.17132300e+04,   1.17304900e+04,   1.15087800e+04,\n",
        "          1.15435500e+04,   3.28812000e+09,   1.15435500e+04]])"
       ]
      }
     ],
     "prompt_number": 142
    },
    {
     "cell_type": "code",
     "collapsed": false,
     "input": [
      "high_volume_mask = dow[:, VOLUME] > 5.5e9"
     ],
     "language": "python",
     "metadata": {},
     "outputs": [],
     "prompt_number": 143
    },
    {
     "cell_type": "code",
     "collapsed": false,
     "input": [
      "high_volume_days = sum(high_volume_mask)"
     ],
     "language": "python",
     "metadata": {},
     "outputs": [],
     "prompt_number": 144
    },
    {
     "cell_type": "code",
     "collapsed": false,
     "input": [
      "high_volume_days"
     ],
     "language": "python",
     "metadata": {},
     "outputs": [
      {
       "metadata": {},
       "output_type": "pyout",
       "prompt_number": 145,
       "text": [
        "18"
       ]
      }
     ],
     "prompt_number": 145
    },
    {
     "cell_type": "code",
     "collapsed": false,
     "input": [
      "high_vol_index = where(high_volume_mask)[0]"
     ],
     "language": "python",
     "metadata": {},
     "outputs": [],
     "prompt_number": 146
    },
    {
     "cell_type": "code",
     "collapsed": false,
     "input": [
      "high_vol_index"
     ],
     "language": "python",
     "metadata": {},
     "outputs": [
      {
       "metadata": {},
       "output_type": "pyout",
       "prompt_number": 147,
       "text": [
        "array([ 12,  13,  15,  51,  54, 123, 125, 129, 131, 132, 134, 135, 136,\n",
        "       137, 139, 140, 141, 145])"
       ]
      }
     ],
     "prompt_number": 147
    },
    {
     "cell_type": "code",
     "collapsed": false,
     "input": [
      "plot(dow[:, ADJ_CLOSE], 'g-')"
     ],
     "language": "python",
     "metadata": {},
     "outputs": [
      {
       "metadata": {},
       "output_type": "pyout",
       "prompt_number": 148,
       "text": [
        "[<matplotlib.lines.Line2D at 0x10fce5350>]"
       ]
      },
      {
       "metadata": {},
       "output_type": "display_data",
       "png": "[encoded data removed]",
       "text": [
        "<matplotlib.figure.Figure at 0x10fb66b50>"
       ]
      }
     ],
     "prompt_number": 148
    },
    {
     "cell_type": "code",
     "collapsed": false,
     "input": [
      "plot(high_vol_index, dow[high_vol_index, ADJ_CLOSE], 'ro')"
     ],
     "language": "python",
     "metadata": {},
     "outputs": [
      {
       "metadata": {},
       "output_type": "pyout",
       "prompt_number": 149,
       "text": [
        "[<matplotlib.lines.Line2D at 0x10fe00dd0>]"
       ]
      },
      {
       "metadata": {},
       "output_type": "display_data",
       "png": "[encoded data removed]",
       "text": [
        "<matplotlib.figure.Figure at 0x10fcfd610>"
       ]
      }
     ],
     "prompt_number": 149
    },
    {
     "cell_type": "code",
     "collapsed": false,
     "input": [
      "high_vol_index"
     ],
     "language": "python",
     "metadata": {},
     "outputs": [
      {
       "metadata": {},
       "output_type": "pyout",
       "prompt_number": 150,
       "text": [
        "array([ 12,  13,  15,  51,  54, 123, 125, 129, 131, 132, 134, 135, 136,\n",
        "       137, 139, 140, 141, 145])"
       ]
      }
     ],
     "prompt_number": 150
    },
    {
     "cell_type": "code",
     "collapsed": false,
     "input": [],
     "language": "python",
     "metadata": {},
     "outputs": []
    }
   ],
   "metadata": {}
  }
 ]
}